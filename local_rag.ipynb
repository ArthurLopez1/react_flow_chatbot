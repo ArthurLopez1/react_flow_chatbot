{
 "cells": [
  {
   "cell_type": "markdown",
   "metadata": {},
   "source": [
    "# Local RAG agent"
   ]
  },
  {
   "cell_type": "markdown",
   "metadata": {},
   "source": [
    "![SNOWFALL](RAG_Model_Architecture.png) \n"
   ]
  },
  {
   "cell_type": "markdown",
   "metadata": {},
   "source": [
    "### Using Ollama and llama 3.2"
   ]
  },
  {
   "cell_type": "code",
   "execution_count": 1,
   "metadata": {},
   "outputs": [],
   "source": [
    "from langchain_ollama import ChatOllama\n",
    "\n",
    "local_llm = \"llama3.2:1b-instruct-fp16\"\n",
    "llm = ChatOllama(model=local_llm, temperature=0)\n",
    "llm_json_mode = ChatOllama(model=local_llm, temperature=0, format=\"json\")"
   ]
  },
  {
   "cell_type": "markdown",
   "metadata": {},
   "source": [
    "## Search - Tavily"
   ]
  },
  {
   "cell_type": "code",
   "execution_count": 2,
   "metadata": {},
   "outputs": [],
   "source": [
    "import os\n",
    "import getpass\n",
    "\n",
    "\n",
    "def _set_env(var: str):\n",
    "    if not os.environ.get(var):\n",
    "        os.environ[var] = getpass.getpass(f\"{var}: \")\n",
    "\n",
    "\n",
    "_set_env(\"TAVILY_API_KEY\")\n",
    "os.environ[\"TOKENIZERS_PARALLELISM\"] = \"true\""
   ]
  },
  {
   "cell_type": "markdown",
   "metadata": {},
   "source": [
    "### Tracing (optional)\n",
    "LangSmith for tracing"
   ]
  },
  {
   "cell_type": "code",
   "execution_count": 3,
   "metadata": {},
   "outputs": [],
   "source": [
    "_set_env(\"LANGCHAIN_API_KEY\")\n",
    "os.environ[\"LANGCHAIN_TRACING_V2\"] = \"true\"\n",
    "os.environ[\"LANGCHAIN_PROJECT\"] = \"local-llama32-rag\""
   ]
  },
  {
   "cell_type": "markdown",
   "metadata": {},
   "source": [
    "### Vectorstore"
   ]
  },
  {
   "cell_type": "code",
   "execution_count": 4,
   "metadata": {},
   "outputs": [
    {
     "name": "stderr",
     "output_type": "stream",
     "text": [
      "USER_AGENT environment variable not set, consider setting it to identify your requests.\n"
     ]
    },
    {
     "name": "stdout",
     "output_type": "stream",
     "text": [
      "Extracted 42 pages from PDF.\n"
     ]
    }
   ],
   "source": [
    "import os\n",
    "import re\n",
    "from langchain_core.documents import Document\n",
    "from langchain.text_splitter import RecursiveCharacterTextSplitter\n",
    "from langchain_community.document_loaders import WebBaseLoader\n",
    "from langchain_community.vectorstores import SKLearnVectorStore\n",
    "from langchain_nomic.embeddings import NomicEmbeddings\n",
    "from langchain.embeddings import fastembed\n",
    "from PyPDF2 import PdfReader\n",
    "\n",
    "pdf_path = \"./data/ersattningsmodell_vaders_2019.pdf\"\n",
    "\n",
    "def clean_text(text: str) -> str:\n",
    "\n",
    "    if not isinstance(text, str):\n",
    "        raise ValueError(\"Input must be a string.\")\n",
    "\n",
    "    # Remove excessive newlines and leading/trailing whitespace\n",
    "    text = re.sub(r'\\n+', '\\n', text).strip()\n",
    "\n",
    "    # Replace multiple spaces with a single space\n",
    "    text = re.sub(r'\\s{2,}', ' ', text)\n",
    "\n",
    "    return text\n",
    "\n",
    "# Function to parse PDF and convert to Documents\n",
    "def parse_pdf_with_pypdf(pdf_path):\n",
    "    \"\"\"Extracts text from a PDF using PyPDF2 and converts each page to a LangChain Document.\"\"\"\n",
    "    reader = PdfReader(pdf_path)\n",
    "    documents = []\n",
    "    \n",
    "    for page_num, page in enumerate(reader.pages):\n",
    "        text = page.extract_text()\n",
    "        if text:\n",
    "            cleaned_text = clean_text(text)  # Clean the text immediately after extraction\n",
    "            documents.append(Document(page_content=cleaned_text, metadata={\"page_number\": page_num + 1}))\n",
    "    \n",
    "    return documents\n",
    "\n",
    "# Load PDF and parse it\n",
    "docs_list = parse_pdf_with_pypdf(pdf_path)\n",
    "\n",
    "# Cleaning the text of each document\n",
    "for doc in docs_list:\n",
    "    doc.page_content = clean_text(doc.page_content)\n",
    "\n",
    "print(f\"Extracted {len(docs_list)} pages from PDF.\")"
   ]
  },
  {
   "cell_type": "code",
   "execution_count": 5,
   "metadata": {},
   "outputs": [
    {
     "ename": "RuntimeError",
     "evalue": "The 'gpt4all' package is required for local inference. Suggestion: `pip install \"nomic[local]\"`",
     "output_type": "error",
     "traceback": [
      "\u001b[0;31m---------------------------------------------------------------------------\u001b[0m",
      "\u001b[0;31mRuntimeError\u001b[0m                              Traceback (most recent call last)",
      "Cell \u001b[0;32mIn[5], line 8\u001b[0m\n\u001b[1;32m      5\u001b[0m doc_splits \u001b[38;5;241m=\u001b[39m text_splitter\u001b[38;5;241m.\u001b[39msplit_documents(docs_list)\n\u001b[1;32m      7\u001b[0m \u001b[38;5;66;03m# Add to vectorDB\u001b[39;00m\n\u001b[0;32m----> 8\u001b[0m vectorstore \u001b[38;5;241m=\u001b[39m \u001b[43mSKLearnVectorStore\u001b[49m\u001b[38;5;241;43m.\u001b[39;49m\u001b[43mfrom_documents\u001b[49m\u001b[43m(\u001b[49m\n\u001b[1;32m      9\u001b[0m \u001b[43m    \u001b[49m\u001b[43mdocuments\u001b[49m\u001b[38;5;241;43m=\u001b[39;49m\u001b[43mdoc_splits\u001b[49m\u001b[43m,\u001b[49m\n\u001b[1;32m     10\u001b[0m \u001b[43m    \u001b[49m\u001b[43membedding\u001b[49m\u001b[38;5;241;43m=\u001b[39;49m\u001b[43mNomicEmbeddings\u001b[49m\u001b[43m(\u001b[49m\u001b[43mmodel\u001b[49m\u001b[38;5;241;43m=\u001b[39;49m\u001b[38;5;124;43m\"\u001b[39;49m\u001b[38;5;124;43mnomic-embed-text-v1.5\u001b[39;49m\u001b[38;5;124;43m\"\u001b[39;49m\u001b[43m,\u001b[49m\u001b[43m \u001b[49m\u001b[43minference_mode\u001b[49m\u001b[38;5;241;43m=\u001b[39;49m\u001b[38;5;124;43m\"\u001b[39;49m\u001b[38;5;124;43mlocal\u001b[39;49m\u001b[38;5;124;43m\"\u001b[39;49m\u001b[43m,\u001b[49m\u001b[43m \u001b[49m\u001b[43mdevice\u001b[49m\u001b[38;5;241;43m=\u001b[39;49m\u001b[38;5;124;43m\"\u001b[39;49m\u001b[38;5;124;43mgpu\u001b[39;49m\u001b[38;5;124;43m\"\u001b[39;49m\u001b[43m)\u001b[49m\u001b[43m,\u001b[49m\n\u001b[1;32m     11\u001b[0m \u001b[43m)\u001b[49m\n\u001b[1;32m     13\u001b[0m \u001b[38;5;66;03m# Create retriever\u001b[39;00m\n\u001b[1;32m     14\u001b[0m retriever \u001b[38;5;241m=\u001b[39m vectorstore\u001b[38;5;241m.\u001b[39mas_retriever(k\u001b[38;5;241m=\u001b[39m\u001b[38;5;241m3\u001b[39m)\n",
      "File \u001b[0;32m~/Documents/code/rag_model_4/.venv/lib/python3.11/site-packages/langchain_core/vectorstores/base.py:852\u001b[0m, in \u001b[0;36mVectorStore.from_documents\u001b[0;34m(cls, documents, embedding, **kwargs)\u001b[0m\n\u001b[1;32m    849\u001b[0m     \u001b[38;5;28;01mif\u001b[39;00m \u001b[38;5;28many\u001b[39m(ids):\n\u001b[1;32m    850\u001b[0m         kwargs[\u001b[38;5;124m\"\u001b[39m\u001b[38;5;124mids\u001b[39m\u001b[38;5;124m\"\u001b[39m] \u001b[38;5;241m=\u001b[39m ids\n\u001b[0;32m--> 852\u001b[0m \u001b[38;5;28;01mreturn\u001b[39;00m \u001b[38;5;28;43mcls\u001b[39;49m\u001b[38;5;241;43m.\u001b[39;49m\u001b[43mfrom_texts\u001b[49m\u001b[43m(\u001b[49m\u001b[43mtexts\u001b[49m\u001b[43m,\u001b[49m\u001b[43m \u001b[49m\u001b[43membedding\u001b[49m\u001b[43m,\u001b[49m\u001b[43m \u001b[49m\u001b[43mmetadatas\u001b[49m\u001b[38;5;241;43m=\u001b[39;49m\u001b[43mmetadatas\u001b[49m\u001b[43m,\u001b[49m\u001b[43m \u001b[49m\u001b[38;5;241;43m*\u001b[39;49m\u001b[38;5;241;43m*\u001b[39;49m\u001b[43mkwargs\u001b[49m\u001b[43m)\u001b[49m\n",
      "File \u001b[0;32m~/Documents/code/rag_model_4/.venv/lib/python3.11/site-packages/langchain_community/vectorstores/sklearn.py:354\u001b[0m, in \u001b[0;36mSKLearnVectorStore.from_texts\u001b[0;34m(cls, texts, embedding, metadatas, ids, persist_path, **kwargs)\u001b[0m\n\u001b[1;32m    343\u001b[0m \u001b[38;5;129m@classmethod\u001b[39m\n\u001b[1;32m    344\u001b[0m \u001b[38;5;28;01mdef\u001b[39;00m \u001b[38;5;21mfrom_texts\u001b[39m(\n\u001b[1;32m    345\u001b[0m     \u001b[38;5;28mcls\u001b[39m,\n\u001b[0;32m   (...)\u001b[0m\n\u001b[1;32m    351\u001b[0m     \u001b[38;5;241m*\u001b[39m\u001b[38;5;241m*\u001b[39mkwargs: Any,\n\u001b[1;32m    352\u001b[0m ) \u001b[38;5;241m-\u001b[39m\u001b[38;5;241m>\u001b[39m \u001b[38;5;124m\"\u001b[39m\u001b[38;5;124mSKLearnVectorStore\u001b[39m\u001b[38;5;124m\"\u001b[39m:\n\u001b[1;32m    353\u001b[0m     vs \u001b[38;5;241m=\u001b[39m SKLearnVectorStore(embedding, persist_path\u001b[38;5;241m=\u001b[39mpersist_path, \u001b[38;5;241m*\u001b[39m\u001b[38;5;241m*\u001b[39mkwargs)\n\u001b[0;32m--> 354\u001b[0m     \u001b[43mvs\u001b[49m\u001b[38;5;241;43m.\u001b[39;49m\u001b[43madd_texts\u001b[49m\u001b[43m(\u001b[49m\u001b[43mtexts\u001b[49m\u001b[43m,\u001b[49m\u001b[43m \u001b[49m\u001b[43mmetadatas\u001b[49m\u001b[38;5;241;43m=\u001b[39;49m\u001b[43mmetadatas\u001b[49m\u001b[43m,\u001b[49m\u001b[43m \u001b[49m\u001b[43mids\u001b[49m\u001b[38;5;241;43m=\u001b[39;49m\u001b[43mids\u001b[49m\u001b[43m)\u001b[49m\n\u001b[1;32m    355\u001b[0m     \u001b[38;5;28;01mreturn\u001b[39;00m vs\n",
      "File \u001b[0;32m~/Documents/code/rag_model_4/.venv/lib/python3.11/site-packages/langchain_community/vectorstores/sklearn.py:207\u001b[0m, in \u001b[0;36mSKLearnVectorStore.add_texts\u001b[0;34m(self, texts, metadatas, ids, **kwargs)\u001b[0m\n\u001b[1;32m    205\u001b[0m _ids \u001b[38;5;241m=\u001b[39m ids \u001b[38;5;129;01mor\u001b[39;00m [\u001b[38;5;28mstr\u001b[39m(uuid4()) \u001b[38;5;28;01mfor\u001b[39;00m _ \u001b[38;5;129;01min\u001b[39;00m _texts]\n\u001b[1;32m    206\u001b[0m \u001b[38;5;28mself\u001b[39m\u001b[38;5;241m.\u001b[39m_texts\u001b[38;5;241m.\u001b[39mextend(_texts)\n\u001b[0;32m--> 207\u001b[0m \u001b[38;5;28mself\u001b[39m\u001b[38;5;241m.\u001b[39m_embeddings\u001b[38;5;241m.\u001b[39mextend(\u001b[38;5;28;43mself\u001b[39;49m\u001b[38;5;241;43m.\u001b[39;49m\u001b[43m_embedding_function\u001b[49m\u001b[38;5;241;43m.\u001b[39;49m\u001b[43membed_documents\u001b[49m\u001b[43m(\u001b[49m\u001b[43m_texts\u001b[49m\u001b[43m)\u001b[49m)\n\u001b[1;32m    208\u001b[0m \u001b[38;5;28mself\u001b[39m\u001b[38;5;241m.\u001b[39m_metadatas\u001b[38;5;241m.\u001b[39mextend(metadatas \u001b[38;5;129;01mor\u001b[39;00m ([{}] \u001b[38;5;241m*\u001b[39m \u001b[38;5;28mlen\u001b[39m(_texts)))\n\u001b[1;32m    209\u001b[0m \u001b[38;5;28mself\u001b[39m\u001b[38;5;241m.\u001b[39m_ids\u001b[38;5;241m.\u001b[39mextend(_ids)\n",
      "File \u001b[0;32m~/Documents/code/rag_model_4/.venv/lib/python3.11/site-packages/langchain_nomic/embeddings.py:114\u001b[0m, in \u001b[0;36mNomicEmbeddings.embed_documents\u001b[0;34m(self, texts)\u001b[0m\n\u001b[1;32m    108\u001b[0m \u001b[38;5;28;01mdef\u001b[39;00m \u001b[38;5;21membed_documents\u001b[39m(\u001b[38;5;28mself\u001b[39m, texts: List[\u001b[38;5;28mstr\u001b[39m]) \u001b[38;5;241m-\u001b[39m\u001b[38;5;241m>\u001b[39m List[List[\u001b[38;5;28mfloat\u001b[39m]]:\n\u001b[1;32m    109\u001b[0m \u001b[38;5;250m    \u001b[39m\u001b[38;5;124;03m\"\"\"Embed search docs.\u001b[39;00m\n\u001b[1;32m    110\u001b[0m \n\u001b[1;32m    111\u001b[0m \u001b[38;5;124;03m    Args:\u001b[39;00m\n\u001b[1;32m    112\u001b[0m \u001b[38;5;124;03m        texts: list of texts to embed as documents\u001b[39;00m\n\u001b[1;32m    113\u001b[0m \u001b[38;5;124;03m    \"\"\"\u001b[39;00m\n\u001b[0;32m--> 114\u001b[0m     \u001b[38;5;28;01mreturn\u001b[39;00m \u001b[38;5;28;43mself\u001b[39;49m\u001b[38;5;241;43m.\u001b[39;49m\u001b[43membed\u001b[49m\u001b[43m(\u001b[49m\n\u001b[1;32m    115\u001b[0m \u001b[43m        \u001b[49m\u001b[43mtexts\u001b[49m\u001b[38;5;241;43m=\u001b[39;49m\u001b[43mtexts\u001b[49m\u001b[43m,\u001b[49m\n\u001b[1;32m    116\u001b[0m \u001b[43m        \u001b[49m\u001b[43mtask_type\u001b[49m\u001b[38;5;241;43m=\u001b[39;49m\u001b[38;5;124;43m\"\u001b[39;49m\u001b[38;5;124;43msearch_document\u001b[39;49m\u001b[38;5;124;43m\"\u001b[39;49m\u001b[43m,\u001b[49m\n\u001b[1;32m    117\u001b[0m \u001b[43m    \u001b[49m\u001b[43m)\u001b[49m\n",
      "File \u001b[0;32m~/Documents/code/rag_model_4/.venv/lib/python3.11/site-packages/langchain_nomic/embeddings.py:98\u001b[0m, in \u001b[0;36mNomicEmbeddings.embed\u001b[0;34m(self, texts, task_type)\u001b[0m\n\u001b[1;32m     89\u001b[0m \u001b[38;5;28;01mdef\u001b[39;00m \u001b[38;5;21membed\u001b[39m(\u001b[38;5;28mself\u001b[39m, texts: List[\u001b[38;5;28mstr\u001b[39m], \u001b[38;5;241m*\u001b[39m, task_type: \u001b[38;5;28mstr\u001b[39m) \u001b[38;5;241m-\u001b[39m\u001b[38;5;241m>\u001b[39m List[List[\u001b[38;5;28mfloat\u001b[39m]]:\n\u001b[1;32m     90\u001b[0m \u001b[38;5;250m    \u001b[39m\u001b[38;5;124;03m\"\"\"Embed texts.\u001b[39;00m\n\u001b[1;32m     91\u001b[0m \n\u001b[1;32m     92\u001b[0m \u001b[38;5;124;03m    Args:\u001b[39;00m\n\u001b[0;32m   (...)\u001b[0m\n\u001b[1;32m     95\u001b[0m \u001b[38;5;124;03m            `search_document`, `classification`, `clustering`\u001b[39;00m\n\u001b[1;32m     96\u001b[0m \u001b[38;5;124;03m    \"\"\"\u001b[39;00m\n\u001b[0;32m---> 98\u001b[0m     output \u001b[38;5;241m=\u001b[39m \u001b[43membed\u001b[49m\u001b[38;5;241;43m.\u001b[39;49m\u001b[43mtext\u001b[49m\u001b[43m(\u001b[49m\n\u001b[1;32m     99\u001b[0m \u001b[43m        \u001b[49m\u001b[43mtexts\u001b[49m\u001b[38;5;241;43m=\u001b[39;49m\u001b[43mtexts\u001b[49m\u001b[43m,\u001b[49m\n\u001b[1;32m    100\u001b[0m \u001b[43m        \u001b[49m\u001b[43mmodel\u001b[49m\u001b[38;5;241;43m=\u001b[39;49m\u001b[38;5;28;43mself\u001b[39;49m\u001b[38;5;241;43m.\u001b[39;49m\u001b[43mmodel\u001b[49m\u001b[43m,\u001b[49m\n\u001b[1;32m    101\u001b[0m \u001b[43m        \u001b[49m\u001b[43mtask_type\u001b[49m\u001b[38;5;241;43m=\u001b[39;49m\u001b[43mtask_type\u001b[49m\u001b[43m,\u001b[49m\n\u001b[1;32m    102\u001b[0m \u001b[43m        \u001b[49m\u001b[43mdimensionality\u001b[49m\u001b[38;5;241;43m=\u001b[39;49m\u001b[38;5;28;43mself\u001b[39;49m\u001b[38;5;241;43m.\u001b[39;49m\u001b[43mdimensionality\u001b[49m\u001b[43m,\u001b[49m\n\u001b[1;32m    103\u001b[0m \u001b[43m        \u001b[49m\u001b[43minference_mode\u001b[49m\u001b[38;5;241;43m=\u001b[39;49m\u001b[38;5;28;43mself\u001b[39;49m\u001b[38;5;241;43m.\u001b[39;49m\u001b[43minference_mode\u001b[49m\u001b[43m,\u001b[49m\n\u001b[1;32m    104\u001b[0m \u001b[43m        \u001b[49m\u001b[43mdevice\u001b[49m\u001b[38;5;241;43m=\u001b[39;49m\u001b[38;5;28;43mself\u001b[39;49m\u001b[38;5;241;43m.\u001b[39;49m\u001b[43mdevice\u001b[49m\u001b[43m,\u001b[49m\n\u001b[1;32m    105\u001b[0m \u001b[43m    \u001b[49m\u001b[43m)\u001b[49m\n\u001b[1;32m    106\u001b[0m     \u001b[38;5;28;01mreturn\u001b[39;00m output[\u001b[38;5;124m\"\u001b[39m\u001b[38;5;124membeddings\u001b[39m\u001b[38;5;124m\"\u001b[39m]\n",
      "File \u001b[0;32m~/Documents/code/rag_model_4/.venv/lib/python3.11/site-packages/nomic/embed.py:186\u001b[0m, in \u001b[0;36mtext\u001b[0;34m(texts, model, task_type, dimensionality, long_text_mode, inference_mode, device, **kwargs)\u001b[0m\n\u001b[1;32m    184\u001b[0m         \u001b[38;5;28;01mraise\u001b[39;00m \u001b[38;5;167;01mTypeError\u001b[39;00m(\u001b[38;5;124mf\u001b[39m\u001b[38;5;124m\"\u001b[39m\u001b[38;5;124mUnexpected keyword arguments: \u001b[39m\u001b[38;5;132;01m{\u001b[39;00m\u001b[38;5;28mlist\u001b[39m(kwargs\u001b[38;5;241m.\u001b[39mkeys())\u001b[38;5;132;01m}\u001b[39;00m\u001b[38;5;124m\"\u001b[39m)\n\u001b[1;32m    185\u001b[0m \u001b[38;5;28;01melif\u001b[39;00m Embed4All \u001b[38;5;129;01mis\u001b[39;00m \u001b[38;5;28;01mNone\u001b[39;00m:\n\u001b[0;32m--> 186\u001b[0m     \u001b[38;5;28;01mraise\u001b[39;00m \u001b[38;5;167;01mRuntimeError\u001b[39;00m(\n\u001b[1;32m    187\u001b[0m         \u001b[38;5;124mf\u001b[39m\u001b[38;5;124m\"\u001b[39m\u001b[38;5;124mThe \u001b[39m\u001b[38;5;124m'\u001b[39m\u001b[38;5;124mgpt4all\u001b[39m\u001b[38;5;124m'\u001b[39m\u001b[38;5;124m package is required for local inference. Suggestion: `pip install \u001b[39m\u001b[38;5;130;01m\\\"\u001b[39;00m\u001b[38;5;124mnomic[local]\u001b[39m\u001b[38;5;130;01m\\\"\u001b[39;00m\u001b[38;5;124m`\u001b[39m\u001b[38;5;124m\"\u001b[39m,\n\u001b[1;32m    188\u001b[0m     )\n\u001b[1;32m    190\u001b[0m \u001b[38;5;28;01mif\u001b[39;00m use_embed4all:\n\u001b[1;32m    191\u001b[0m     \u001b[38;5;28;01mtry\u001b[39;00m:\n",
      "\u001b[0;31mRuntimeError\u001b[0m: The 'gpt4all' package is required for local inference. Suggestion: `pip install \"nomic[local]\"`"
     ]
    }
   ],
   "source": [
    "# Split documents\n",
    "text_splitter = RecursiveCharacterTextSplitter.from_tiktoken_encoder(\n",
    "    chunk_size=2000, chunk_overlap=300\n",
    ")\n",
    "doc_splits = text_splitter.split_documents(docs_list)\n",
    "\n",
    "# Add to vectorDB\n",
    "vectorstore = SKLearnVectorStore.from_documents(\n",
    "    documents=doc_splits,\n",
    "    embedding=NomicEmbeddings(model=\"nomic-embed-text-v1.5\", inference_mode=\"local\", device=\"gpu\"),\n",
    ")\n",
    "\n",
    "# Create retriever\n",
    "retriever = vectorstore.as_retriever(k=3)"
   ]
  },
  {
   "cell_type": "markdown",
   "metadata": {},
   "source": [
    "### Components"
   ]
  },
  {
   "cell_type": "code",
   "execution_count": 6,
   "metadata": {},
   "outputs": [
    {
     "ename": "ConnectError",
     "evalue": "[Errno 61] Connection refused",
     "output_type": "error",
     "traceback": [
      "\u001b[0;31m---------------------------------------------------------------------------\u001b[0m",
      "\u001b[0;31mConnectError\u001b[0m                              Traceback (most recent call last)",
      "File \u001b[0;32m~/Documents/code/rag_model_4/.venv/lib/python3.11/site-packages/httpx/_transports/default.py:72\u001b[0m, in \u001b[0;36mmap_httpcore_exceptions\u001b[0;34m()\u001b[0m\n\u001b[1;32m     71\u001b[0m \u001b[38;5;28;01mtry\u001b[39;00m:\n\u001b[0;32m---> 72\u001b[0m     \u001b[38;5;28;01myield\u001b[39;00m\n\u001b[1;32m     73\u001b[0m \u001b[38;5;28;01mexcept\u001b[39;00m \u001b[38;5;167;01mException\u001b[39;00m \u001b[38;5;28;01mas\u001b[39;00m exc:\n",
      "File \u001b[0;32m~/Documents/code/rag_model_4/.venv/lib/python3.11/site-packages/httpx/_transports/default.py:236\u001b[0m, in \u001b[0;36mHTTPTransport.handle_request\u001b[0;34m(self, request)\u001b[0m\n\u001b[1;32m    235\u001b[0m \u001b[38;5;28;01mwith\u001b[39;00m map_httpcore_exceptions():\n\u001b[0;32m--> 236\u001b[0m     resp \u001b[38;5;241m=\u001b[39m \u001b[38;5;28;43mself\u001b[39;49m\u001b[38;5;241;43m.\u001b[39;49m\u001b[43m_pool\u001b[49m\u001b[38;5;241;43m.\u001b[39;49m\u001b[43mhandle_request\u001b[49m\u001b[43m(\u001b[49m\u001b[43mreq\u001b[49m\u001b[43m)\u001b[49m\n\u001b[1;32m    238\u001b[0m \u001b[38;5;28;01massert\u001b[39;00m \u001b[38;5;28misinstance\u001b[39m(resp\u001b[38;5;241m.\u001b[39mstream, typing\u001b[38;5;241m.\u001b[39mIterable)\n",
      "File \u001b[0;32m~/Documents/code/rag_model_4/.venv/lib/python3.11/site-packages/httpcore/_sync/connection_pool.py:216\u001b[0m, in \u001b[0;36mConnectionPool.handle_request\u001b[0;34m(self, request)\u001b[0m\n\u001b[1;32m    215\u001b[0m     \u001b[38;5;28mself\u001b[39m\u001b[38;5;241m.\u001b[39m_close_connections(closing)\n\u001b[0;32m--> 216\u001b[0m     \u001b[38;5;28;01mraise\u001b[39;00m exc \u001b[38;5;28;01mfrom\u001b[39;00m \u001b[38;5;28;01mNone\u001b[39;00m\n\u001b[1;32m    218\u001b[0m \u001b[38;5;66;03m# Return the response. Note that in this case we still have to manage\u001b[39;00m\n\u001b[1;32m    219\u001b[0m \u001b[38;5;66;03m# the point at which the response is closed.\u001b[39;00m\n",
      "File \u001b[0;32m~/Documents/code/rag_model_4/.venv/lib/python3.11/site-packages/httpcore/_sync/connection_pool.py:196\u001b[0m, in \u001b[0;36mConnectionPool.handle_request\u001b[0;34m(self, request)\u001b[0m\n\u001b[1;32m    194\u001b[0m \u001b[38;5;28;01mtry\u001b[39;00m:\n\u001b[1;32m    195\u001b[0m     \u001b[38;5;66;03m# Send the request on the assigned connection.\u001b[39;00m\n\u001b[0;32m--> 196\u001b[0m     response \u001b[38;5;241m=\u001b[39m \u001b[43mconnection\u001b[49m\u001b[38;5;241;43m.\u001b[39;49m\u001b[43mhandle_request\u001b[49m\u001b[43m(\u001b[49m\n\u001b[1;32m    197\u001b[0m \u001b[43m        \u001b[49m\u001b[43mpool_request\u001b[49m\u001b[38;5;241;43m.\u001b[39;49m\u001b[43mrequest\u001b[49m\n\u001b[1;32m    198\u001b[0m \u001b[43m    \u001b[49m\u001b[43m)\u001b[49m\n\u001b[1;32m    199\u001b[0m \u001b[38;5;28;01mexcept\u001b[39;00m ConnectionNotAvailable:\n\u001b[1;32m    200\u001b[0m     \u001b[38;5;66;03m# In some cases a connection may initially be available to\u001b[39;00m\n\u001b[1;32m    201\u001b[0m     \u001b[38;5;66;03m# handle a request, but then become unavailable.\u001b[39;00m\n\u001b[1;32m    202\u001b[0m     \u001b[38;5;66;03m#\u001b[39;00m\n\u001b[1;32m    203\u001b[0m     \u001b[38;5;66;03m# In this case we clear the connection and try again.\u001b[39;00m\n",
      "File \u001b[0;32m~/Documents/code/rag_model_4/.venv/lib/python3.11/site-packages/httpcore/_sync/connection.py:99\u001b[0m, in \u001b[0;36mHTTPConnection.handle_request\u001b[0;34m(self, request)\u001b[0m\n\u001b[1;32m     98\u001b[0m     \u001b[38;5;28mself\u001b[39m\u001b[38;5;241m.\u001b[39m_connect_failed \u001b[38;5;241m=\u001b[39m \u001b[38;5;28;01mTrue\u001b[39;00m\n\u001b[0;32m---> 99\u001b[0m     \u001b[38;5;28;01mraise\u001b[39;00m exc\n\u001b[1;32m    101\u001b[0m \u001b[38;5;28;01mreturn\u001b[39;00m \u001b[38;5;28mself\u001b[39m\u001b[38;5;241m.\u001b[39m_connection\u001b[38;5;241m.\u001b[39mhandle_request(request)\n",
      "File \u001b[0;32m~/Documents/code/rag_model_4/.venv/lib/python3.11/site-packages/httpcore/_sync/connection.py:76\u001b[0m, in \u001b[0;36mHTTPConnection.handle_request\u001b[0;34m(self, request)\u001b[0m\n\u001b[1;32m     75\u001b[0m \u001b[38;5;28;01mif\u001b[39;00m \u001b[38;5;28mself\u001b[39m\u001b[38;5;241m.\u001b[39m_connection \u001b[38;5;129;01mis\u001b[39;00m \u001b[38;5;28;01mNone\u001b[39;00m:\n\u001b[0;32m---> 76\u001b[0m     stream \u001b[38;5;241m=\u001b[39m \u001b[38;5;28;43mself\u001b[39;49m\u001b[38;5;241;43m.\u001b[39;49m\u001b[43m_connect\u001b[49m\u001b[43m(\u001b[49m\u001b[43mrequest\u001b[49m\u001b[43m)\u001b[49m\n\u001b[1;32m     78\u001b[0m     ssl_object \u001b[38;5;241m=\u001b[39m stream\u001b[38;5;241m.\u001b[39mget_extra_info(\u001b[38;5;124m\"\u001b[39m\u001b[38;5;124mssl_object\u001b[39m\u001b[38;5;124m\"\u001b[39m)\n",
      "File \u001b[0;32m~/Documents/code/rag_model_4/.venv/lib/python3.11/site-packages/httpcore/_sync/connection.py:122\u001b[0m, in \u001b[0;36mHTTPConnection._connect\u001b[0;34m(self, request)\u001b[0m\n\u001b[1;32m    121\u001b[0m \u001b[38;5;28;01mwith\u001b[39;00m Trace(\u001b[38;5;124m\"\u001b[39m\u001b[38;5;124mconnect_tcp\u001b[39m\u001b[38;5;124m\"\u001b[39m, logger, request, kwargs) \u001b[38;5;28;01mas\u001b[39;00m trace:\n\u001b[0;32m--> 122\u001b[0m     stream \u001b[38;5;241m=\u001b[39m \u001b[38;5;28;43mself\u001b[39;49m\u001b[38;5;241;43m.\u001b[39;49m\u001b[43m_network_backend\u001b[49m\u001b[38;5;241;43m.\u001b[39;49m\u001b[43mconnect_tcp\u001b[49m\u001b[43m(\u001b[49m\u001b[38;5;241;43m*\u001b[39;49m\u001b[38;5;241;43m*\u001b[39;49m\u001b[43mkwargs\u001b[49m\u001b[43m)\u001b[49m\n\u001b[1;32m    123\u001b[0m     trace\u001b[38;5;241m.\u001b[39mreturn_value \u001b[38;5;241m=\u001b[39m stream\n",
      "File \u001b[0;32m~/Documents/code/rag_model_4/.venv/lib/python3.11/site-packages/httpcore/_backends/sync.py:205\u001b[0m, in \u001b[0;36mSyncBackend.connect_tcp\u001b[0;34m(self, host, port, timeout, local_address, socket_options)\u001b[0m\n\u001b[1;32m    200\u001b[0m exc_map: ExceptionMapping \u001b[38;5;241m=\u001b[39m {\n\u001b[1;32m    201\u001b[0m     socket\u001b[38;5;241m.\u001b[39mtimeout: ConnectTimeout,\n\u001b[1;32m    202\u001b[0m     \u001b[38;5;167;01mOSError\u001b[39;00m: ConnectError,\n\u001b[1;32m    203\u001b[0m }\n\u001b[0;32m--> 205\u001b[0m \u001b[43m\u001b[49m\u001b[38;5;28;43;01mwith\u001b[39;49;00m\u001b[43m \u001b[49m\u001b[43mmap_exceptions\u001b[49m\u001b[43m(\u001b[49m\u001b[43mexc_map\u001b[49m\u001b[43m)\u001b[49m\u001b[43m:\u001b[49m\n\u001b[1;32m    206\u001b[0m \u001b[43m    \u001b[49m\u001b[43msock\u001b[49m\u001b[43m \u001b[49m\u001b[38;5;241;43m=\u001b[39;49m\u001b[43m \u001b[49m\u001b[43msocket\u001b[49m\u001b[38;5;241;43m.\u001b[39;49m\u001b[43mcreate_connection\u001b[49m\u001b[43m(\u001b[49m\n\u001b[1;32m    207\u001b[0m \u001b[43m        \u001b[49m\u001b[43maddress\u001b[49m\u001b[43m,\u001b[49m\n\u001b[1;32m    208\u001b[0m \u001b[43m        \u001b[49m\u001b[43mtimeout\u001b[49m\u001b[43m,\u001b[49m\n\u001b[1;32m    209\u001b[0m \u001b[43m        \u001b[49m\u001b[43msource_address\u001b[49m\u001b[38;5;241;43m=\u001b[39;49m\u001b[43msource_address\u001b[49m\u001b[43m,\u001b[49m\n\u001b[1;32m    210\u001b[0m \u001b[43m    \u001b[49m\u001b[43m)\u001b[49m\n",
      "File \u001b[0;32m/Library/Frameworks/Python.framework/Versions/3.11/lib/python3.11/contextlib.py:158\u001b[0m, in \u001b[0;36m_GeneratorContextManager.__exit__\u001b[0;34m(self, typ, value, traceback)\u001b[0m\n\u001b[1;32m    157\u001b[0m \u001b[38;5;28;01mtry\u001b[39;00m:\n\u001b[0;32m--> 158\u001b[0m     \u001b[38;5;28mself\u001b[39m\u001b[38;5;241m.\u001b[39mgen\u001b[38;5;241m.\u001b[39mthrow(typ, value, traceback)\n\u001b[1;32m    159\u001b[0m \u001b[38;5;28;01mexcept\u001b[39;00m \u001b[38;5;167;01mStopIteration\u001b[39;00m \u001b[38;5;28;01mas\u001b[39;00m exc:\n\u001b[1;32m    160\u001b[0m     \u001b[38;5;66;03m# Suppress StopIteration *unless* it's the same exception that\u001b[39;00m\n\u001b[1;32m    161\u001b[0m     \u001b[38;5;66;03m# was passed to throw().  This prevents a StopIteration\u001b[39;00m\n\u001b[1;32m    162\u001b[0m     \u001b[38;5;66;03m# raised inside the \"with\" statement from being suppressed.\u001b[39;00m\n",
      "File \u001b[0;32m~/Documents/code/rag_model_4/.venv/lib/python3.11/site-packages/httpcore/_exceptions.py:14\u001b[0m, in \u001b[0;36mmap_exceptions\u001b[0;34m(map)\u001b[0m\n\u001b[1;32m     13\u001b[0m     \u001b[38;5;28;01mif\u001b[39;00m \u001b[38;5;28misinstance\u001b[39m(exc, from_exc):\n\u001b[0;32m---> 14\u001b[0m         \u001b[38;5;28;01mraise\u001b[39;00m to_exc(exc) \u001b[38;5;28;01mfrom\u001b[39;00m \u001b[38;5;21;01mexc\u001b[39;00m\n\u001b[1;32m     15\u001b[0m \u001b[38;5;28;01mraise\u001b[39;00m\n",
      "\u001b[0;31mConnectError\u001b[0m: [Errno 61] Connection refused",
      "\nThe above exception was the direct cause of the following exception:\n",
      "\u001b[0;31mConnectError\u001b[0m                              Traceback (most recent call last)",
      "Cell \u001b[0;32mIn[6], line 15\u001b[0m\n\u001b[1;32m      6\u001b[0m router_instructions \u001b[38;5;241m=\u001b[39m \u001b[38;5;124m\"\"\"\u001b[39m\u001b[38;5;124mYou are an expert at Swedish and winter road maintenance employed by Klimator.\u001b[39m\n\u001b[1;32m      7\u001b[0m \n\u001b[1;32m      8\u001b[0m \u001b[38;5;124mThe vectorstore contains documents related to meteorological facts, winter road maintance laws, Road Weather Forecast and related fields of study.\u001b[39m\n\u001b[0;32m   (...)\u001b[0m\n\u001b[1;32m     11\u001b[0m \n\u001b[1;32m     12\u001b[0m \u001b[38;5;124mReturn JSON with single key, datasource, that is \u001b[39m\u001b[38;5;124m'\u001b[39m\u001b[38;5;124mwebsearch\u001b[39m\u001b[38;5;124m'\u001b[39m\u001b[38;5;124m or \u001b[39m\u001b[38;5;124m'\u001b[39m\u001b[38;5;124mvectorstore\u001b[39m\u001b[38;5;124m'\u001b[39m\u001b[38;5;124m depending on the question.\u001b[39m\u001b[38;5;124m\"\"\"\u001b[39m\n\u001b[1;32m     14\u001b[0m \u001b[38;5;66;03m# Test router\u001b[39;00m\n\u001b[0;32m---> 15\u001b[0m test_web_search \u001b[38;5;241m=\u001b[39m \u001b[43mllm_json_mode\u001b[49m\u001b[38;5;241;43m.\u001b[39;49m\u001b[43minvoke\u001b[49m\u001b[43m(\u001b[49m\n\u001b[1;32m     16\u001b[0m \u001b[43m    \u001b[49m\u001b[43m[\u001b[49m\u001b[43mSystemMessage\u001b[49m\u001b[43m(\u001b[49m\u001b[43mcontent\u001b[49m\u001b[38;5;241;43m=\u001b[39;49m\u001b[43mrouter_instructions\u001b[49m\u001b[43m)\u001b[49m\u001b[43m]\u001b[49m\n\u001b[1;32m     17\u001b[0m \u001b[43m    \u001b[49m\u001b[38;5;241;43m+\u001b[39;49m\u001b[43m \u001b[49m\u001b[43m[\u001b[49m\n\u001b[1;32m     18\u001b[0m \u001b[43m        \u001b[49m\u001b[43mHumanMessage\u001b[49m\u001b[43m(\u001b[49m\n\u001b[1;32m     19\u001b[0m \u001b[43m            \u001b[49m\u001b[43mcontent\u001b[49m\u001b[38;5;241;43m=\u001b[39;49m\u001b[38;5;124;43m\"\u001b[39;49m\u001b[38;5;124;43mVilken är den senaste utvecklingen inom AI-teknik?\u001b[39;49m\u001b[38;5;124;43m\"\u001b[39;49m\n\u001b[1;32m     20\u001b[0m \u001b[43m        \u001b[49m\u001b[43m)\u001b[49m\n\u001b[1;32m     21\u001b[0m \u001b[43m    \u001b[49m\u001b[43m]\u001b[49m\n\u001b[1;32m     22\u001b[0m \u001b[43m)\u001b[49m\n\u001b[1;32m     23\u001b[0m test_web_search_2 \u001b[38;5;241m=\u001b[39m llm_json_mode\u001b[38;5;241m.\u001b[39minvoke(\n\u001b[1;32m     24\u001b[0m     [SystemMessage(content\u001b[38;5;241m=\u001b[39mrouter_instructions)]\n\u001b[1;32m     25\u001b[0m     \u001b[38;5;241m+\u001b[39m [HumanMessage(content\u001b[38;5;241m=\u001b[39m\u001b[38;5;124m\"\u001b[39m\u001b[38;5;124mVad är syftet med att samla in mätdata från 14 dagar före starttiden?\u001b[39m\u001b[38;5;124m\"\u001b[39m)]\n\u001b[1;32m     26\u001b[0m )\n\u001b[1;32m     27\u001b[0m test_vector_store \u001b[38;5;241m=\u001b[39m llm_json_mode\u001b[38;5;241m.\u001b[39minvoke(\n\u001b[1;32m     28\u001b[0m     [SystemMessage(content\u001b[38;5;241m=\u001b[39mrouter_instructions)]\n\u001b[1;32m     29\u001b[0m     \u001b[38;5;241m+\u001b[39m [HumanMessage(content\u001b[38;5;241m=\u001b[39m\u001b[38;5;124m\"\u001b[39m\u001b[38;5;124mVilka regler gäller för att en viss vädersituation ska räknas under en hel timme?\u001b[39m\u001b[38;5;124m\"\u001b[39m)]\n\u001b[1;32m     30\u001b[0m )\n",
      "File \u001b[0;32m~/Documents/code/rag_model_4/.venv/lib/python3.11/site-packages/langchain_core/language_models/chat_models.py:286\u001b[0m, in \u001b[0;36mBaseChatModel.invoke\u001b[0;34m(self, input, config, stop, **kwargs)\u001b[0m\n\u001b[1;32m    275\u001b[0m \u001b[38;5;28;01mdef\u001b[39;00m \u001b[38;5;21minvoke\u001b[39m(\n\u001b[1;32m    276\u001b[0m     \u001b[38;5;28mself\u001b[39m,\n\u001b[1;32m    277\u001b[0m     \u001b[38;5;28minput\u001b[39m: LanguageModelInput,\n\u001b[0;32m   (...)\u001b[0m\n\u001b[1;32m    281\u001b[0m     \u001b[38;5;241m*\u001b[39m\u001b[38;5;241m*\u001b[39mkwargs: Any,\n\u001b[1;32m    282\u001b[0m ) \u001b[38;5;241m-\u001b[39m\u001b[38;5;241m>\u001b[39m BaseMessage:\n\u001b[1;32m    283\u001b[0m     config \u001b[38;5;241m=\u001b[39m ensure_config(config)\n\u001b[1;32m    284\u001b[0m     \u001b[38;5;28;01mreturn\u001b[39;00m cast(\n\u001b[1;32m    285\u001b[0m         ChatGeneration,\n\u001b[0;32m--> 286\u001b[0m         \u001b[38;5;28;43mself\u001b[39;49m\u001b[38;5;241;43m.\u001b[39;49m\u001b[43mgenerate_prompt\u001b[49m\u001b[43m(\u001b[49m\n\u001b[1;32m    287\u001b[0m \u001b[43m            \u001b[49m\u001b[43m[\u001b[49m\u001b[38;5;28;43mself\u001b[39;49m\u001b[38;5;241;43m.\u001b[39;49m\u001b[43m_convert_input\u001b[49m\u001b[43m(\u001b[49m\u001b[38;5;28;43minput\u001b[39;49m\u001b[43m)\u001b[49m\u001b[43m]\u001b[49m\u001b[43m,\u001b[49m\n\u001b[1;32m    288\u001b[0m \u001b[43m            \u001b[49m\u001b[43mstop\u001b[49m\u001b[38;5;241;43m=\u001b[39;49m\u001b[43mstop\u001b[49m\u001b[43m,\u001b[49m\n\u001b[1;32m    289\u001b[0m \u001b[43m            \u001b[49m\u001b[43mcallbacks\u001b[49m\u001b[38;5;241;43m=\u001b[39;49m\u001b[43mconfig\u001b[49m\u001b[38;5;241;43m.\u001b[39;49m\u001b[43mget\u001b[49m\u001b[43m(\u001b[49m\u001b[38;5;124;43m\"\u001b[39;49m\u001b[38;5;124;43mcallbacks\u001b[39;49m\u001b[38;5;124;43m\"\u001b[39;49m\u001b[43m)\u001b[49m\u001b[43m,\u001b[49m\n\u001b[1;32m    290\u001b[0m \u001b[43m            \u001b[49m\u001b[43mtags\u001b[49m\u001b[38;5;241;43m=\u001b[39;49m\u001b[43mconfig\u001b[49m\u001b[38;5;241;43m.\u001b[39;49m\u001b[43mget\u001b[49m\u001b[43m(\u001b[49m\u001b[38;5;124;43m\"\u001b[39;49m\u001b[38;5;124;43mtags\u001b[39;49m\u001b[38;5;124;43m\"\u001b[39;49m\u001b[43m)\u001b[49m\u001b[43m,\u001b[49m\n\u001b[1;32m    291\u001b[0m \u001b[43m            \u001b[49m\u001b[43mmetadata\u001b[49m\u001b[38;5;241;43m=\u001b[39;49m\u001b[43mconfig\u001b[49m\u001b[38;5;241;43m.\u001b[39;49m\u001b[43mget\u001b[49m\u001b[43m(\u001b[49m\u001b[38;5;124;43m\"\u001b[39;49m\u001b[38;5;124;43mmetadata\u001b[39;49m\u001b[38;5;124;43m\"\u001b[39;49m\u001b[43m)\u001b[49m\u001b[43m,\u001b[49m\n\u001b[1;32m    292\u001b[0m \u001b[43m            \u001b[49m\u001b[43mrun_name\u001b[49m\u001b[38;5;241;43m=\u001b[39;49m\u001b[43mconfig\u001b[49m\u001b[38;5;241;43m.\u001b[39;49m\u001b[43mget\u001b[49m\u001b[43m(\u001b[49m\u001b[38;5;124;43m\"\u001b[39;49m\u001b[38;5;124;43mrun_name\u001b[39;49m\u001b[38;5;124;43m\"\u001b[39;49m\u001b[43m)\u001b[49m\u001b[43m,\u001b[49m\n\u001b[1;32m    293\u001b[0m \u001b[43m            \u001b[49m\u001b[43mrun_id\u001b[49m\u001b[38;5;241;43m=\u001b[39;49m\u001b[43mconfig\u001b[49m\u001b[38;5;241;43m.\u001b[39;49m\u001b[43mpop\u001b[49m\u001b[43m(\u001b[49m\u001b[38;5;124;43m\"\u001b[39;49m\u001b[38;5;124;43mrun_id\u001b[39;49m\u001b[38;5;124;43m\"\u001b[39;49m\u001b[43m,\u001b[49m\u001b[43m \u001b[49m\u001b[38;5;28;43;01mNone\u001b[39;49;00m\u001b[43m)\u001b[49m\u001b[43m,\u001b[49m\n\u001b[1;32m    294\u001b[0m \u001b[43m            \u001b[49m\u001b[38;5;241;43m*\u001b[39;49m\u001b[38;5;241;43m*\u001b[39;49m\u001b[43mkwargs\u001b[49m\u001b[43m,\u001b[49m\n\u001b[1;32m    295\u001b[0m \u001b[43m        \u001b[49m\u001b[43m)\u001b[49m\u001b[38;5;241m.\u001b[39mgenerations[\u001b[38;5;241m0\u001b[39m][\u001b[38;5;241m0\u001b[39m],\n\u001b[1;32m    296\u001b[0m     )\u001b[38;5;241m.\u001b[39mmessage\n",
      "File \u001b[0;32m~/Documents/code/rag_model_4/.venv/lib/python3.11/site-packages/langchain_core/language_models/chat_models.py:786\u001b[0m, in \u001b[0;36mBaseChatModel.generate_prompt\u001b[0;34m(self, prompts, stop, callbacks, **kwargs)\u001b[0m\n\u001b[1;32m    778\u001b[0m \u001b[38;5;28;01mdef\u001b[39;00m \u001b[38;5;21mgenerate_prompt\u001b[39m(\n\u001b[1;32m    779\u001b[0m     \u001b[38;5;28mself\u001b[39m,\n\u001b[1;32m    780\u001b[0m     prompts: \u001b[38;5;28mlist\u001b[39m[PromptValue],\n\u001b[0;32m   (...)\u001b[0m\n\u001b[1;32m    783\u001b[0m     \u001b[38;5;241m*\u001b[39m\u001b[38;5;241m*\u001b[39mkwargs: Any,\n\u001b[1;32m    784\u001b[0m ) \u001b[38;5;241m-\u001b[39m\u001b[38;5;241m>\u001b[39m LLMResult:\n\u001b[1;32m    785\u001b[0m     prompt_messages \u001b[38;5;241m=\u001b[39m [p\u001b[38;5;241m.\u001b[39mto_messages() \u001b[38;5;28;01mfor\u001b[39;00m p \u001b[38;5;129;01min\u001b[39;00m prompts]\n\u001b[0;32m--> 786\u001b[0m     \u001b[38;5;28;01mreturn\u001b[39;00m \u001b[38;5;28;43mself\u001b[39;49m\u001b[38;5;241;43m.\u001b[39;49m\u001b[43mgenerate\u001b[49m\u001b[43m(\u001b[49m\u001b[43mprompt_messages\u001b[49m\u001b[43m,\u001b[49m\u001b[43m \u001b[49m\u001b[43mstop\u001b[49m\u001b[38;5;241;43m=\u001b[39;49m\u001b[43mstop\u001b[49m\u001b[43m,\u001b[49m\u001b[43m \u001b[49m\u001b[43mcallbacks\u001b[49m\u001b[38;5;241;43m=\u001b[39;49m\u001b[43mcallbacks\u001b[49m\u001b[43m,\u001b[49m\u001b[43m \u001b[49m\u001b[38;5;241;43m*\u001b[39;49m\u001b[38;5;241;43m*\u001b[39;49m\u001b[43mkwargs\u001b[49m\u001b[43m)\u001b[49m\n",
      "File \u001b[0;32m~/Documents/code/rag_model_4/.venv/lib/python3.11/site-packages/langchain_core/language_models/chat_models.py:643\u001b[0m, in \u001b[0;36mBaseChatModel.generate\u001b[0;34m(self, messages, stop, callbacks, tags, metadata, run_name, run_id, **kwargs)\u001b[0m\n\u001b[1;32m    641\u001b[0m         \u001b[38;5;28;01mif\u001b[39;00m run_managers:\n\u001b[1;32m    642\u001b[0m             run_managers[i]\u001b[38;5;241m.\u001b[39mon_llm_error(e, response\u001b[38;5;241m=\u001b[39mLLMResult(generations\u001b[38;5;241m=\u001b[39m[]))\n\u001b[0;32m--> 643\u001b[0m         \u001b[38;5;28;01mraise\u001b[39;00m e\n\u001b[1;32m    644\u001b[0m flattened_outputs \u001b[38;5;241m=\u001b[39m [\n\u001b[1;32m    645\u001b[0m     LLMResult(generations\u001b[38;5;241m=\u001b[39m[res\u001b[38;5;241m.\u001b[39mgenerations], llm_output\u001b[38;5;241m=\u001b[39mres\u001b[38;5;241m.\u001b[39mllm_output)  \u001b[38;5;66;03m# type: ignore[list-item]\u001b[39;00m\n\u001b[1;32m    646\u001b[0m     \u001b[38;5;28;01mfor\u001b[39;00m res \u001b[38;5;129;01min\u001b[39;00m results\n\u001b[1;32m    647\u001b[0m ]\n\u001b[1;32m    648\u001b[0m llm_output \u001b[38;5;241m=\u001b[39m \u001b[38;5;28mself\u001b[39m\u001b[38;5;241m.\u001b[39m_combine_llm_outputs([res\u001b[38;5;241m.\u001b[39mllm_output \u001b[38;5;28;01mfor\u001b[39;00m res \u001b[38;5;129;01min\u001b[39;00m results])\n",
      "File \u001b[0;32m~/Documents/code/rag_model_4/.venv/lib/python3.11/site-packages/langchain_core/language_models/chat_models.py:633\u001b[0m, in \u001b[0;36mBaseChatModel.generate\u001b[0;34m(self, messages, stop, callbacks, tags, metadata, run_name, run_id, **kwargs)\u001b[0m\n\u001b[1;32m    630\u001b[0m \u001b[38;5;28;01mfor\u001b[39;00m i, m \u001b[38;5;129;01min\u001b[39;00m \u001b[38;5;28menumerate\u001b[39m(messages):\n\u001b[1;32m    631\u001b[0m     \u001b[38;5;28;01mtry\u001b[39;00m:\n\u001b[1;32m    632\u001b[0m         results\u001b[38;5;241m.\u001b[39mappend(\n\u001b[0;32m--> 633\u001b[0m             \u001b[38;5;28;43mself\u001b[39;49m\u001b[38;5;241;43m.\u001b[39;49m\u001b[43m_generate_with_cache\u001b[49m\u001b[43m(\u001b[49m\n\u001b[1;32m    634\u001b[0m \u001b[43m                \u001b[49m\u001b[43mm\u001b[49m\u001b[43m,\u001b[49m\n\u001b[1;32m    635\u001b[0m \u001b[43m                \u001b[49m\u001b[43mstop\u001b[49m\u001b[38;5;241;43m=\u001b[39;49m\u001b[43mstop\u001b[49m\u001b[43m,\u001b[49m\n\u001b[1;32m    636\u001b[0m \u001b[43m                \u001b[49m\u001b[43mrun_manager\u001b[49m\u001b[38;5;241;43m=\u001b[39;49m\u001b[43mrun_managers\u001b[49m\u001b[43m[\u001b[49m\u001b[43mi\u001b[49m\u001b[43m]\u001b[49m\u001b[43m \u001b[49m\u001b[38;5;28;43;01mif\u001b[39;49;00m\u001b[43m \u001b[49m\u001b[43mrun_managers\u001b[49m\u001b[43m \u001b[49m\u001b[38;5;28;43;01melse\u001b[39;49;00m\u001b[43m \u001b[49m\u001b[38;5;28;43;01mNone\u001b[39;49;00m\u001b[43m,\u001b[49m\n\u001b[1;32m    637\u001b[0m \u001b[43m                \u001b[49m\u001b[38;5;241;43m*\u001b[39;49m\u001b[38;5;241;43m*\u001b[39;49m\u001b[43mkwargs\u001b[49m\u001b[43m,\u001b[49m\n\u001b[1;32m    638\u001b[0m \u001b[43m            \u001b[49m\u001b[43m)\u001b[49m\n\u001b[1;32m    639\u001b[0m         )\n\u001b[1;32m    640\u001b[0m     \u001b[38;5;28;01mexcept\u001b[39;00m \u001b[38;5;167;01mBaseException\u001b[39;00m \u001b[38;5;28;01mas\u001b[39;00m e:\n\u001b[1;32m    641\u001b[0m         \u001b[38;5;28;01mif\u001b[39;00m run_managers:\n",
      "File \u001b[0;32m~/Documents/code/rag_model_4/.venv/lib/python3.11/site-packages/langchain_core/language_models/chat_models.py:851\u001b[0m, in \u001b[0;36mBaseChatModel._generate_with_cache\u001b[0;34m(self, messages, stop, run_manager, **kwargs)\u001b[0m\n\u001b[1;32m    849\u001b[0m \u001b[38;5;28;01melse\u001b[39;00m:\n\u001b[1;32m    850\u001b[0m     \u001b[38;5;28;01mif\u001b[39;00m inspect\u001b[38;5;241m.\u001b[39msignature(\u001b[38;5;28mself\u001b[39m\u001b[38;5;241m.\u001b[39m_generate)\u001b[38;5;241m.\u001b[39mparameters\u001b[38;5;241m.\u001b[39mget(\u001b[38;5;124m\"\u001b[39m\u001b[38;5;124mrun_manager\u001b[39m\u001b[38;5;124m\"\u001b[39m):\n\u001b[0;32m--> 851\u001b[0m         result \u001b[38;5;241m=\u001b[39m \u001b[38;5;28;43mself\u001b[39;49m\u001b[38;5;241;43m.\u001b[39;49m\u001b[43m_generate\u001b[49m\u001b[43m(\u001b[49m\n\u001b[1;32m    852\u001b[0m \u001b[43m            \u001b[49m\u001b[43mmessages\u001b[49m\u001b[43m,\u001b[49m\u001b[43m \u001b[49m\u001b[43mstop\u001b[49m\u001b[38;5;241;43m=\u001b[39;49m\u001b[43mstop\u001b[49m\u001b[43m,\u001b[49m\u001b[43m \u001b[49m\u001b[43mrun_manager\u001b[49m\u001b[38;5;241;43m=\u001b[39;49m\u001b[43mrun_manager\u001b[49m\u001b[43m,\u001b[49m\u001b[43m \u001b[49m\u001b[38;5;241;43m*\u001b[39;49m\u001b[38;5;241;43m*\u001b[39;49m\u001b[43mkwargs\u001b[49m\n\u001b[1;32m    853\u001b[0m \u001b[43m        \u001b[49m\u001b[43m)\u001b[49m\n\u001b[1;32m    854\u001b[0m     \u001b[38;5;28;01melse\u001b[39;00m:\n\u001b[1;32m    855\u001b[0m         result \u001b[38;5;241m=\u001b[39m \u001b[38;5;28mself\u001b[39m\u001b[38;5;241m.\u001b[39m_generate(messages, stop\u001b[38;5;241m=\u001b[39mstop, \u001b[38;5;241m*\u001b[39m\u001b[38;5;241m*\u001b[39mkwargs)\n",
      "File \u001b[0;32m~/Documents/code/rag_model_4/.venv/lib/python3.11/site-packages/langchain_ollama/chat_models.py:644\u001b[0m, in \u001b[0;36mChatOllama._generate\u001b[0;34m(self, messages, stop, run_manager, **kwargs)\u001b[0m\n\u001b[1;32m    637\u001b[0m \u001b[38;5;28;01mdef\u001b[39;00m \u001b[38;5;21m_generate\u001b[39m(\n\u001b[1;32m    638\u001b[0m     \u001b[38;5;28mself\u001b[39m,\n\u001b[1;32m    639\u001b[0m     messages: List[BaseMessage],\n\u001b[0;32m   (...)\u001b[0m\n\u001b[1;32m    642\u001b[0m     \u001b[38;5;241m*\u001b[39m\u001b[38;5;241m*\u001b[39mkwargs: Any,\n\u001b[1;32m    643\u001b[0m ) \u001b[38;5;241m-\u001b[39m\u001b[38;5;241m>\u001b[39m ChatResult:\n\u001b[0;32m--> 644\u001b[0m     final_chunk \u001b[38;5;241m=\u001b[39m \u001b[38;5;28;43mself\u001b[39;49m\u001b[38;5;241;43m.\u001b[39;49m\u001b[43m_chat_stream_with_aggregation\u001b[49m\u001b[43m(\u001b[49m\n\u001b[1;32m    645\u001b[0m \u001b[43m        \u001b[49m\u001b[43mmessages\u001b[49m\u001b[43m,\u001b[49m\u001b[43m \u001b[49m\u001b[43mstop\u001b[49m\u001b[43m,\u001b[49m\u001b[43m \u001b[49m\u001b[43mrun_manager\u001b[49m\u001b[43m,\u001b[49m\u001b[43m \u001b[49m\u001b[43mverbose\u001b[49m\u001b[38;5;241;43m=\u001b[39;49m\u001b[38;5;28;43mself\u001b[39;49m\u001b[38;5;241;43m.\u001b[39;49m\u001b[43mverbose\u001b[49m\u001b[43m,\u001b[49m\u001b[43m \u001b[49m\u001b[38;5;241;43m*\u001b[39;49m\u001b[38;5;241;43m*\u001b[39;49m\u001b[43mkwargs\u001b[49m\n\u001b[1;32m    646\u001b[0m \u001b[43m    \u001b[49m\u001b[43m)\u001b[49m\n\u001b[1;32m    647\u001b[0m     generation_info \u001b[38;5;241m=\u001b[39m final_chunk\u001b[38;5;241m.\u001b[39mgeneration_info\n\u001b[1;32m    648\u001b[0m     chat_generation \u001b[38;5;241m=\u001b[39m ChatGeneration(\n\u001b[1;32m    649\u001b[0m         message\u001b[38;5;241m=\u001b[39mAIMessage(\n\u001b[1;32m    650\u001b[0m             content\u001b[38;5;241m=\u001b[39mfinal_chunk\u001b[38;5;241m.\u001b[39mtext,\n\u001b[0;32m   (...)\u001b[0m\n\u001b[1;32m    654\u001b[0m         generation_info\u001b[38;5;241m=\u001b[39mgeneration_info,\n\u001b[1;32m    655\u001b[0m     )\n",
      "File \u001b[0;32m~/Documents/code/rag_model_4/.venv/lib/python3.11/site-packages/langchain_ollama/chat_models.py:545\u001b[0m, in \u001b[0;36mChatOllama._chat_stream_with_aggregation\u001b[0;34m(self, messages, stop, run_manager, verbose, **kwargs)\u001b[0m\n\u001b[1;32m    536\u001b[0m \u001b[38;5;28;01mdef\u001b[39;00m \u001b[38;5;21m_chat_stream_with_aggregation\u001b[39m(\n\u001b[1;32m    537\u001b[0m     \u001b[38;5;28mself\u001b[39m,\n\u001b[1;32m    538\u001b[0m     messages: List[BaseMessage],\n\u001b[0;32m   (...)\u001b[0m\n\u001b[1;32m    542\u001b[0m     \u001b[38;5;241m*\u001b[39m\u001b[38;5;241m*\u001b[39mkwargs: Any,\n\u001b[1;32m    543\u001b[0m ) \u001b[38;5;241m-\u001b[39m\u001b[38;5;241m>\u001b[39m ChatGenerationChunk:\n\u001b[1;32m    544\u001b[0m     final_chunk \u001b[38;5;241m=\u001b[39m \u001b[38;5;28;01mNone\u001b[39;00m\n\u001b[0;32m--> 545\u001b[0m \u001b[43m    \u001b[49m\u001b[38;5;28;43;01mfor\u001b[39;49;00m\u001b[43m \u001b[49m\u001b[43mstream_resp\u001b[49m\u001b[43m \u001b[49m\u001b[38;5;129;43;01min\u001b[39;49;00m\u001b[43m \u001b[49m\u001b[38;5;28;43mself\u001b[39;49m\u001b[38;5;241;43m.\u001b[39;49m\u001b[43m_create_chat_stream\u001b[49m\u001b[43m(\u001b[49m\u001b[43mmessages\u001b[49m\u001b[43m,\u001b[49m\u001b[43m \u001b[49m\u001b[43mstop\u001b[49m\u001b[43m,\u001b[49m\u001b[43m \u001b[49m\u001b[38;5;241;43m*\u001b[39;49m\u001b[38;5;241;43m*\u001b[39;49m\u001b[43mkwargs\u001b[49m\u001b[43m)\u001b[49m\u001b[43m:\u001b[49m\n\u001b[1;32m    546\u001b[0m \u001b[43m        \u001b[49m\u001b[38;5;28;43;01mif\u001b[39;49;00m\u001b[43m \u001b[49m\u001b[38;5;129;43;01mnot\u001b[39;49;00m\u001b[43m \u001b[49m\u001b[38;5;28;43misinstance\u001b[39;49m\u001b[43m(\u001b[49m\u001b[43mstream_resp\u001b[49m\u001b[43m,\u001b[49m\u001b[43m \u001b[49m\u001b[38;5;28;43mstr\u001b[39;49m\u001b[43m)\u001b[49m\u001b[43m:\u001b[49m\n\u001b[1;32m    547\u001b[0m \u001b[43m            \u001b[49m\u001b[43mchunk\u001b[49m\u001b[43m \u001b[49m\u001b[38;5;241;43m=\u001b[39;49m\u001b[43m \u001b[49m\u001b[43mChatGenerationChunk\u001b[49m\u001b[43m(\u001b[49m\n\u001b[1;32m    548\u001b[0m \u001b[43m                \u001b[49m\u001b[43mmessage\u001b[49m\u001b[38;5;241;43m=\u001b[39;49m\u001b[43mAIMessageChunk\u001b[49m\u001b[43m(\u001b[49m\n\u001b[1;32m    549\u001b[0m \u001b[43m                    \u001b[49m\u001b[43mcontent\u001b[49m\u001b[38;5;241;43m=\u001b[39;49m\u001b[43m(\u001b[49m\n\u001b[0;32m   (...)\u001b[0m\n\u001b[1;32m    562\u001b[0m \u001b[43m                \u001b[49m\u001b[43m)\u001b[49m\u001b[43m,\u001b[49m\n\u001b[1;32m    563\u001b[0m \u001b[43m            \u001b[49m\u001b[43m)\u001b[49m\n",
      "File \u001b[0;32m~/Documents/code/rag_model_4/.venv/lib/python3.11/site-packages/langchain_ollama/chat_models.py:527\u001b[0m, in \u001b[0;36mChatOllama._create_chat_stream\u001b[0;34m(self, messages, stop, **kwargs)\u001b[0m\n\u001b[1;32m    517\u001b[0m     \u001b[38;5;28;01myield\u001b[39;00m \u001b[38;5;28mself\u001b[39m\u001b[38;5;241m.\u001b[39m_client\u001b[38;5;241m.\u001b[39mchat(\n\u001b[1;32m    518\u001b[0m         model\u001b[38;5;241m=\u001b[39mparams[\u001b[38;5;124m\"\u001b[39m\u001b[38;5;124mmodel\u001b[39m\u001b[38;5;124m\"\u001b[39m],\n\u001b[1;32m    519\u001b[0m         messages\u001b[38;5;241m=\u001b[39mollama_messages,\n\u001b[0;32m   (...)\u001b[0m\n\u001b[1;32m    524\u001b[0m         tools\u001b[38;5;241m=\u001b[39mkwargs[\u001b[38;5;124m\"\u001b[39m\u001b[38;5;124mtools\u001b[39m\u001b[38;5;124m\"\u001b[39m],\n\u001b[1;32m    525\u001b[0m     )\n\u001b[1;32m    526\u001b[0m \u001b[38;5;28;01melse\u001b[39;00m:\n\u001b[0;32m--> 527\u001b[0m     \u001b[38;5;28;01myield from\u001b[39;00m \u001b[38;5;28mself\u001b[39m\u001b[38;5;241m.\u001b[39m_client\u001b[38;5;241m.\u001b[39mchat(\n\u001b[1;32m    528\u001b[0m         model\u001b[38;5;241m=\u001b[39mparams[\u001b[38;5;124m\"\u001b[39m\u001b[38;5;124mmodel\u001b[39m\u001b[38;5;124m\"\u001b[39m],\n\u001b[1;32m    529\u001b[0m         messages\u001b[38;5;241m=\u001b[39mollama_messages,\n\u001b[1;32m    530\u001b[0m         stream\u001b[38;5;241m=\u001b[39m\u001b[38;5;28;01mTrue\u001b[39;00m,\n\u001b[1;32m    531\u001b[0m         options\u001b[38;5;241m=\u001b[39mOptions(\u001b[38;5;241m*\u001b[39m\u001b[38;5;241m*\u001b[39mparams[\u001b[38;5;124m\"\u001b[39m\u001b[38;5;124moptions\u001b[39m\u001b[38;5;124m\"\u001b[39m]),\n\u001b[1;32m    532\u001b[0m         keep_alive\u001b[38;5;241m=\u001b[39mparams[\u001b[38;5;124m\"\u001b[39m\u001b[38;5;124mkeep_alive\u001b[39m\u001b[38;5;124m\"\u001b[39m],\n\u001b[1;32m    533\u001b[0m         \u001b[38;5;28mformat\u001b[39m\u001b[38;5;241m=\u001b[39mparams[\u001b[38;5;124m\"\u001b[39m\u001b[38;5;124mformat\u001b[39m\u001b[38;5;124m\"\u001b[39m],\n\u001b[1;32m    534\u001b[0m     )\n",
      "File \u001b[0;32m~/Documents/code/rag_model_4/.venv/lib/python3.11/site-packages/ollama/_client.py:80\u001b[0m, in \u001b[0;36mClient._stream\u001b[0;34m(self, method, url, **kwargs)\u001b[0m\n\u001b[1;32m     79\u001b[0m \u001b[38;5;28;01mdef\u001b[39;00m \u001b[38;5;21m_stream\u001b[39m(\u001b[38;5;28mself\u001b[39m, method: \u001b[38;5;28mstr\u001b[39m, url: \u001b[38;5;28mstr\u001b[39m, \u001b[38;5;241m*\u001b[39m\u001b[38;5;241m*\u001b[39mkwargs) \u001b[38;5;241m-\u001b[39m\u001b[38;5;241m>\u001b[39m Iterator[Mapping[\u001b[38;5;28mstr\u001b[39m, Any]]:\n\u001b[0;32m---> 80\u001b[0m \u001b[43m  \u001b[49m\u001b[38;5;28;43;01mwith\u001b[39;49;00m\u001b[43m \u001b[49m\u001b[38;5;28;43mself\u001b[39;49m\u001b[38;5;241;43m.\u001b[39;49m\u001b[43m_client\u001b[49m\u001b[38;5;241;43m.\u001b[39;49m\u001b[43mstream\u001b[49m\u001b[43m(\u001b[49m\u001b[43mmethod\u001b[49m\u001b[43m,\u001b[49m\u001b[43m \u001b[49m\u001b[43murl\u001b[49m\u001b[43m,\u001b[49m\u001b[43m \u001b[49m\u001b[38;5;241;43m*\u001b[39;49m\u001b[38;5;241;43m*\u001b[39;49m\u001b[43mkwargs\u001b[49m\u001b[43m)\u001b[49m\u001b[43m \u001b[49m\u001b[38;5;28;43;01mas\u001b[39;49;00m\u001b[43m \u001b[49m\u001b[43mr\u001b[49m\u001b[43m:\u001b[49m\n\u001b[1;32m     81\u001b[0m \u001b[43m    \u001b[49m\u001b[38;5;28;43;01mtry\u001b[39;49;00m\u001b[43m:\u001b[49m\n\u001b[1;32m     82\u001b[0m \u001b[43m      \u001b[49m\u001b[43mr\u001b[49m\u001b[38;5;241;43m.\u001b[39;49m\u001b[43mraise_for_status\u001b[49m\u001b[43m(\u001b[49m\u001b[43m)\u001b[49m\n",
      "File \u001b[0;32m/Library/Frameworks/Python.framework/Versions/3.11/lib/python3.11/contextlib.py:137\u001b[0m, in \u001b[0;36m_GeneratorContextManager.__enter__\u001b[0;34m(self)\u001b[0m\n\u001b[1;32m    135\u001b[0m \u001b[38;5;28;01mdel\u001b[39;00m \u001b[38;5;28mself\u001b[39m\u001b[38;5;241m.\u001b[39margs, \u001b[38;5;28mself\u001b[39m\u001b[38;5;241m.\u001b[39mkwds, \u001b[38;5;28mself\u001b[39m\u001b[38;5;241m.\u001b[39mfunc\n\u001b[1;32m    136\u001b[0m \u001b[38;5;28;01mtry\u001b[39;00m:\n\u001b[0;32m--> 137\u001b[0m     \u001b[38;5;28;01mreturn\u001b[39;00m \u001b[38;5;28mnext\u001b[39m(\u001b[38;5;28mself\u001b[39m\u001b[38;5;241m.\u001b[39mgen)\n\u001b[1;32m    138\u001b[0m \u001b[38;5;28;01mexcept\u001b[39;00m \u001b[38;5;167;01mStopIteration\u001b[39;00m:\n\u001b[1;32m    139\u001b[0m     \u001b[38;5;28;01mraise\u001b[39;00m \u001b[38;5;167;01mRuntimeError\u001b[39;00m(\u001b[38;5;124m\"\u001b[39m\u001b[38;5;124mgenerator didn\u001b[39m\u001b[38;5;124m'\u001b[39m\u001b[38;5;124mt yield\u001b[39m\u001b[38;5;124m\"\u001b[39m) \u001b[38;5;28;01mfrom\u001b[39;00m \u001b[38;5;28;01mNone\u001b[39;00m\n",
      "File \u001b[0;32m~/Documents/code/rag_model_4/.venv/lib/python3.11/site-packages/httpx/_client.py:880\u001b[0m, in \u001b[0;36mClient.stream\u001b[0;34m(self, method, url, content, data, files, json, params, headers, cookies, auth, follow_redirects, timeout, extensions)\u001b[0m\n\u001b[1;32m    857\u001b[0m \u001b[38;5;250m\u001b[39m\u001b[38;5;124;03m\"\"\"\u001b[39;00m\n\u001b[1;32m    858\u001b[0m \u001b[38;5;124;03mAlternative to `httpx.request()` that streams the response body\u001b[39;00m\n\u001b[1;32m    859\u001b[0m \u001b[38;5;124;03minstead of loading it into memory at once.\u001b[39;00m\n\u001b[0;32m   (...)\u001b[0m\n\u001b[1;32m    865\u001b[0m \u001b[38;5;124;03m[0]: /quickstart#streaming-responses\u001b[39;00m\n\u001b[1;32m    866\u001b[0m \u001b[38;5;124;03m\"\"\"\u001b[39;00m\n\u001b[1;32m    867\u001b[0m request \u001b[38;5;241m=\u001b[39m \u001b[38;5;28mself\u001b[39m\u001b[38;5;241m.\u001b[39mbuild_request(\n\u001b[1;32m    868\u001b[0m     method\u001b[38;5;241m=\u001b[39mmethod,\n\u001b[1;32m    869\u001b[0m     url\u001b[38;5;241m=\u001b[39murl,\n\u001b[0;32m   (...)\u001b[0m\n\u001b[1;32m    878\u001b[0m     extensions\u001b[38;5;241m=\u001b[39mextensions,\n\u001b[1;32m    879\u001b[0m )\n\u001b[0;32m--> 880\u001b[0m response \u001b[38;5;241m=\u001b[39m \u001b[38;5;28;43mself\u001b[39;49m\u001b[38;5;241;43m.\u001b[39;49m\u001b[43msend\u001b[49m\u001b[43m(\u001b[49m\n\u001b[1;32m    881\u001b[0m \u001b[43m    \u001b[49m\u001b[43mrequest\u001b[49m\u001b[38;5;241;43m=\u001b[39;49m\u001b[43mrequest\u001b[49m\u001b[43m,\u001b[49m\n\u001b[1;32m    882\u001b[0m \u001b[43m    \u001b[49m\u001b[43mauth\u001b[49m\u001b[38;5;241;43m=\u001b[39;49m\u001b[43mauth\u001b[49m\u001b[43m,\u001b[49m\n\u001b[1;32m    883\u001b[0m \u001b[43m    \u001b[49m\u001b[43mfollow_redirects\u001b[49m\u001b[38;5;241;43m=\u001b[39;49m\u001b[43mfollow_redirects\u001b[49m\u001b[43m,\u001b[49m\n\u001b[1;32m    884\u001b[0m \u001b[43m    \u001b[49m\u001b[43mstream\u001b[49m\u001b[38;5;241;43m=\u001b[39;49m\u001b[38;5;28;43;01mTrue\u001b[39;49;00m\u001b[43m,\u001b[49m\n\u001b[1;32m    885\u001b[0m \u001b[43m\u001b[49m\u001b[43m)\u001b[49m\n\u001b[1;32m    886\u001b[0m \u001b[38;5;28;01mtry\u001b[39;00m:\n\u001b[1;32m    887\u001b[0m     \u001b[38;5;28;01myield\u001b[39;00m response\n",
      "File \u001b[0;32m~/Documents/code/rag_model_4/.venv/lib/python3.11/site-packages/httpx/_client.py:926\u001b[0m, in \u001b[0;36mClient.send\u001b[0;34m(self, request, stream, auth, follow_redirects)\u001b[0m\n\u001b[1;32m    922\u001b[0m \u001b[38;5;28mself\u001b[39m\u001b[38;5;241m.\u001b[39m_set_timeout(request)\n\u001b[1;32m    924\u001b[0m auth \u001b[38;5;241m=\u001b[39m \u001b[38;5;28mself\u001b[39m\u001b[38;5;241m.\u001b[39m_build_request_auth(request, auth)\n\u001b[0;32m--> 926\u001b[0m response \u001b[38;5;241m=\u001b[39m \u001b[38;5;28;43mself\u001b[39;49m\u001b[38;5;241;43m.\u001b[39;49m\u001b[43m_send_handling_auth\u001b[49m\u001b[43m(\u001b[49m\n\u001b[1;32m    927\u001b[0m \u001b[43m    \u001b[49m\u001b[43mrequest\u001b[49m\u001b[43m,\u001b[49m\n\u001b[1;32m    928\u001b[0m \u001b[43m    \u001b[49m\u001b[43mauth\u001b[49m\u001b[38;5;241;43m=\u001b[39;49m\u001b[43mauth\u001b[49m\u001b[43m,\u001b[49m\n\u001b[1;32m    929\u001b[0m \u001b[43m    \u001b[49m\u001b[43mfollow_redirects\u001b[49m\u001b[38;5;241;43m=\u001b[39;49m\u001b[43mfollow_redirects\u001b[49m\u001b[43m,\u001b[49m\n\u001b[1;32m    930\u001b[0m \u001b[43m    \u001b[49m\u001b[43mhistory\u001b[49m\u001b[38;5;241;43m=\u001b[39;49m\u001b[43m[\u001b[49m\u001b[43m]\u001b[49m\u001b[43m,\u001b[49m\n\u001b[1;32m    931\u001b[0m \u001b[43m\u001b[49m\u001b[43m)\u001b[49m\n\u001b[1;32m    932\u001b[0m \u001b[38;5;28;01mtry\u001b[39;00m:\n\u001b[1;32m    933\u001b[0m     \u001b[38;5;28;01mif\u001b[39;00m \u001b[38;5;129;01mnot\u001b[39;00m stream:\n",
      "File \u001b[0;32m~/Documents/code/rag_model_4/.venv/lib/python3.11/site-packages/httpx/_client.py:954\u001b[0m, in \u001b[0;36mClient._send_handling_auth\u001b[0;34m(self, request, auth, follow_redirects, history)\u001b[0m\n\u001b[1;32m    951\u001b[0m request \u001b[38;5;241m=\u001b[39m \u001b[38;5;28mnext\u001b[39m(auth_flow)\n\u001b[1;32m    953\u001b[0m \u001b[38;5;28;01mwhile\u001b[39;00m \u001b[38;5;28;01mTrue\u001b[39;00m:\n\u001b[0;32m--> 954\u001b[0m     response \u001b[38;5;241m=\u001b[39m \u001b[38;5;28;43mself\u001b[39;49m\u001b[38;5;241;43m.\u001b[39;49m\u001b[43m_send_handling_redirects\u001b[49m\u001b[43m(\u001b[49m\n\u001b[1;32m    955\u001b[0m \u001b[43m        \u001b[49m\u001b[43mrequest\u001b[49m\u001b[43m,\u001b[49m\n\u001b[1;32m    956\u001b[0m \u001b[43m        \u001b[49m\u001b[43mfollow_redirects\u001b[49m\u001b[38;5;241;43m=\u001b[39;49m\u001b[43mfollow_redirects\u001b[49m\u001b[43m,\u001b[49m\n\u001b[1;32m    957\u001b[0m \u001b[43m        \u001b[49m\u001b[43mhistory\u001b[49m\u001b[38;5;241;43m=\u001b[39;49m\u001b[43mhistory\u001b[49m\u001b[43m,\u001b[49m\n\u001b[1;32m    958\u001b[0m \u001b[43m    \u001b[49m\u001b[43m)\u001b[49m\n\u001b[1;32m    959\u001b[0m     \u001b[38;5;28;01mtry\u001b[39;00m:\n\u001b[1;32m    960\u001b[0m         \u001b[38;5;28;01mtry\u001b[39;00m:\n",
      "File \u001b[0;32m~/Documents/code/rag_model_4/.venv/lib/python3.11/site-packages/httpx/_client.py:991\u001b[0m, in \u001b[0;36mClient._send_handling_redirects\u001b[0;34m(self, request, follow_redirects, history)\u001b[0m\n\u001b[1;32m    988\u001b[0m \u001b[38;5;28;01mfor\u001b[39;00m hook \u001b[38;5;129;01min\u001b[39;00m \u001b[38;5;28mself\u001b[39m\u001b[38;5;241m.\u001b[39m_event_hooks[\u001b[38;5;124m\"\u001b[39m\u001b[38;5;124mrequest\u001b[39m\u001b[38;5;124m\"\u001b[39m]:\n\u001b[1;32m    989\u001b[0m     hook(request)\n\u001b[0;32m--> 991\u001b[0m response \u001b[38;5;241m=\u001b[39m \u001b[38;5;28;43mself\u001b[39;49m\u001b[38;5;241;43m.\u001b[39;49m\u001b[43m_send_single_request\u001b[49m\u001b[43m(\u001b[49m\u001b[43mrequest\u001b[49m\u001b[43m)\u001b[49m\n\u001b[1;32m    992\u001b[0m \u001b[38;5;28;01mtry\u001b[39;00m:\n\u001b[1;32m    993\u001b[0m     \u001b[38;5;28;01mfor\u001b[39;00m hook \u001b[38;5;129;01min\u001b[39;00m \u001b[38;5;28mself\u001b[39m\u001b[38;5;241m.\u001b[39m_event_hooks[\u001b[38;5;124m\"\u001b[39m\u001b[38;5;124mresponse\u001b[39m\u001b[38;5;124m\"\u001b[39m]:\n",
      "File \u001b[0;32m~/Documents/code/rag_model_4/.venv/lib/python3.11/site-packages/httpx/_client.py:1027\u001b[0m, in \u001b[0;36mClient._send_single_request\u001b[0;34m(self, request)\u001b[0m\n\u001b[1;32m   1022\u001b[0m     \u001b[38;5;28;01mraise\u001b[39;00m \u001b[38;5;167;01mRuntimeError\u001b[39;00m(\n\u001b[1;32m   1023\u001b[0m         \u001b[38;5;124m\"\u001b[39m\u001b[38;5;124mAttempted to send an async request with a sync Client instance.\u001b[39m\u001b[38;5;124m\"\u001b[39m\n\u001b[1;32m   1024\u001b[0m     )\n\u001b[1;32m   1026\u001b[0m \u001b[38;5;28;01mwith\u001b[39;00m request_context(request\u001b[38;5;241m=\u001b[39mrequest):\n\u001b[0;32m-> 1027\u001b[0m     response \u001b[38;5;241m=\u001b[39m \u001b[43mtransport\u001b[49m\u001b[38;5;241;43m.\u001b[39;49m\u001b[43mhandle_request\u001b[49m\u001b[43m(\u001b[49m\u001b[43mrequest\u001b[49m\u001b[43m)\u001b[49m\n\u001b[1;32m   1029\u001b[0m \u001b[38;5;28;01massert\u001b[39;00m \u001b[38;5;28misinstance\u001b[39m(response\u001b[38;5;241m.\u001b[39mstream, SyncByteStream)\n\u001b[1;32m   1031\u001b[0m response\u001b[38;5;241m.\u001b[39mrequest \u001b[38;5;241m=\u001b[39m request\n",
      "File \u001b[0;32m~/Documents/code/rag_model_4/.venv/lib/python3.11/site-packages/httpx/_transports/default.py:235\u001b[0m, in \u001b[0;36mHTTPTransport.handle_request\u001b[0;34m(self, request)\u001b[0m\n\u001b[1;32m    221\u001b[0m \u001b[38;5;28;01massert\u001b[39;00m \u001b[38;5;28misinstance\u001b[39m(request\u001b[38;5;241m.\u001b[39mstream, SyncByteStream)\n\u001b[1;32m    223\u001b[0m req \u001b[38;5;241m=\u001b[39m httpcore\u001b[38;5;241m.\u001b[39mRequest(\n\u001b[1;32m    224\u001b[0m     method\u001b[38;5;241m=\u001b[39mrequest\u001b[38;5;241m.\u001b[39mmethod,\n\u001b[1;32m    225\u001b[0m     url\u001b[38;5;241m=\u001b[39mhttpcore\u001b[38;5;241m.\u001b[39mURL(\n\u001b[0;32m   (...)\u001b[0m\n\u001b[1;32m    233\u001b[0m     extensions\u001b[38;5;241m=\u001b[39mrequest\u001b[38;5;241m.\u001b[39mextensions,\n\u001b[1;32m    234\u001b[0m )\n\u001b[0;32m--> 235\u001b[0m \u001b[43m\u001b[49m\u001b[38;5;28;43;01mwith\u001b[39;49;00m\u001b[43m \u001b[49m\u001b[43mmap_httpcore_exceptions\u001b[49m\u001b[43m(\u001b[49m\u001b[43m)\u001b[49m\u001b[43m:\u001b[49m\n\u001b[1;32m    236\u001b[0m \u001b[43m    \u001b[49m\u001b[43mresp\u001b[49m\u001b[43m \u001b[49m\u001b[38;5;241;43m=\u001b[39;49m\u001b[43m \u001b[49m\u001b[38;5;28;43mself\u001b[39;49m\u001b[38;5;241;43m.\u001b[39;49m\u001b[43m_pool\u001b[49m\u001b[38;5;241;43m.\u001b[39;49m\u001b[43mhandle_request\u001b[49m\u001b[43m(\u001b[49m\u001b[43mreq\u001b[49m\u001b[43m)\u001b[49m\n\u001b[1;32m    238\u001b[0m \u001b[38;5;28;01massert\u001b[39;00m \u001b[38;5;28misinstance\u001b[39m(resp\u001b[38;5;241m.\u001b[39mstream, typing\u001b[38;5;241m.\u001b[39mIterable)\n",
      "File \u001b[0;32m/Library/Frameworks/Python.framework/Versions/3.11/lib/python3.11/contextlib.py:158\u001b[0m, in \u001b[0;36m_GeneratorContextManager.__exit__\u001b[0;34m(self, typ, value, traceback)\u001b[0m\n\u001b[1;32m    156\u001b[0m     value \u001b[38;5;241m=\u001b[39m typ()\n\u001b[1;32m    157\u001b[0m \u001b[38;5;28;01mtry\u001b[39;00m:\n\u001b[0;32m--> 158\u001b[0m     \u001b[38;5;28mself\u001b[39m\u001b[38;5;241m.\u001b[39mgen\u001b[38;5;241m.\u001b[39mthrow(typ, value, traceback)\n\u001b[1;32m    159\u001b[0m \u001b[38;5;28;01mexcept\u001b[39;00m \u001b[38;5;167;01mStopIteration\u001b[39;00m \u001b[38;5;28;01mas\u001b[39;00m exc:\n\u001b[1;32m    160\u001b[0m     \u001b[38;5;66;03m# Suppress StopIteration *unless* it's the same exception that\u001b[39;00m\n\u001b[1;32m    161\u001b[0m     \u001b[38;5;66;03m# was passed to throw().  This prevents a StopIteration\u001b[39;00m\n\u001b[1;32m    162\u001b[0m     \u001b[38;5;66;03m# raised inside the \"with\" statement from being suppressed.\u001b[39;00m\n\u001b[1;32m    163\u001b[0m     \u001b[38;5;28;01mreturn\u001b[39;00m exc \u001b[38;5;129;01mis\u001b[39;00m \u001b[38;5;129;01mnot\u001b[39;00m value\n",
      "File \u001b[0;32m~/Documents/code/rag_model_4/.venv/lib/python3.11/site-packages/httpx/_transports/default.py:89\u001b[0m, in \u001b[0;36mmap_httpcore_exceptions\u001b[0;34m()\u001b[0m\n\u001b[1;32m     86\u001b[0m     \u001b[38;5;28;01mraise\u001b[39;00m\n\u001b[1;32m     88\u001b[0m message \u001b[38;5;241m=\u001b[39m \u001b[38;5;28mstr\u001b[39m(exc)\n\u001b[0;32m---> 89\u001b[0m \u001b[38;5;28;01mraise\u001b[39;00m mapped_exc(message) \u001b[38;5;28;01mfrom\u001b[39;00m \u001b[38;5;21;01mexc\u001b[39;00m\n",
      "\u001b[0;31mConnectError\u001b[0m: [Errno 61] Connection refused"
     ]
    }
   ],
   "source": [
    "### Router\n",
    "import json\n",
    "from langchain_core.messages import HumanMessage, SystemMessage\n",
    "\n",
    "# Prompt\n",
    "router_instructions = \"\"\"You are an expert at Swedish and winter road maintenance employed by Klimator.\n",
    "\n",
    "The vectorstore contains documents related to meteorological facts, winter road maintance laws, Road Weather Forecast and related fields of study.\n",
    "\n",
    "Use the vectorstore for questions on these topics. For all else, and especially for current events, use web-search.\n",
    "\n",
    "Return JSON with single key, datasource, that is 'websearch' or 'vectorstore' depending on the question.\"\"\"\n",
    "\n",
    "# Test router\n",
    "test_web_search = llm_json_mode.invoke(\n",
    "    [SystemMessage(content=router_instructions)]\n",
    "    + [\n",
    "        HumanMessage(\n",
    "            content=\"Vilken är den senaste utvecklingen inom AI-teknik?\"\n",
    "        )\n",
    "    ]\n",
    ")\n",
    "test_web_search_2 = llm_json_mode.invoke(\n",
    "    [SystemMessage(content=router_instructions)]\n",
    "    + [HumanMessage(content=\"Vad är syftet med att samla in mätdata från 14 dagar före starttiden?\")]\n",
    ")\n",
    "test_vector_store = llm_json_mode.invoke(\n",
    "    [SystemMessage(content=router_instructions)]\n",
    "    + [HumanMessage(content=\"Vilka regler gäller för att en viss vädersituation ska räknas under en hel timme?\")]\n",
    ")\n",
    "print(\n",
    "    json.loads(test_web_search.content),\n",
    "    json.loads(test_web_search_2.content),\n",
    "    json.loads(test_vector_store.content),\n",
    ")"
   ]
  },
  {
   "cell_type": "markdown",
   "metadata": {},
   "source": [
    "### Retrieval Grader"
   ]
  },
  {
   "cell_type": "code",
   "execution_count": null,
   "metadata": {},
   "outputs": [
    {
     "data": {
      "text/plain": [
       "{'binary_score': 'no'}"
      ]
     },
     "execution_count": 7,
     "metadata": {},
     "output_type": "execute_result"
    }
   ],
   "source": [
    "### Retrieval Grader\n",
    "\n",
    "# Doc grader instructions\n",
    "doc_grader_instructions = \"\"\"You are a grader assessing relevance of a retrieved document to a user question.\n",
    "\n",
    "If the document contains keyword(s) or semantic meaning related to the question, grade it as relevant.\"\"\"\n",
    "\n",
    "# Grader prompt\n",
    "doc_grader_prompt = \"\"\"Here is the retrieved document: \\n\\n {document} \\n\\n Here is the user question: \\n\\n {question}. \n",
    "\n",
    "This carefully and objectively assess whether the document contains at least some information that is relevant to the question.\n",
    "\n",
    "Return JSON with single key, binary_score, that is 'yes' or 'no' score to indicate whether the document contains at least some information that is relevant to the question.\"\"\"\n",
    "\n",
    "# Test\n",
    "question = \"Hur kombineras data från VViS och MESAN för att skapa väderutfall?\"\n",
    "docs = retriever.invoke(question)\n",
    "doc_txt = docs[3].page_content\n",
    "doc_grader_prompt_formatted = doc_grader_prompt.format(\n",
    "    document=doc_txt, question=question\n",
    ")\n",
    "result = llm_json_mode.invoke(\n",
    "    [SystemMessage(content=doc_grader_instructions)]\n",
    "    + [HumanMessage(content=doc_grader_prompt_formatted)]\n",
    ")\n",
    "json.loads(result.content)"
   ]
  },
  {
   "cell_type": "code",
   "execution_count": null,
   "metadata": {},
   "outputs": [
    {
     "data": {
      "text/plain": [
       "'2018- 09-05 5 vilket kan innebära att observationer/värden som hämtas eller bygger på VV iS-data över tid inte är direkt jämförbara. 1.4.2 Bortfall av mätdata från VViS Bortfall innebär att mätdata saknas för en eller flera av variablerna lufttemperatur, väg ytetemperatur, relativ luftfuktighet och daggpunktstemperatur. Det finns tre typer av bortfal l. 1. Den första typen är kortvarig och innebär att en VViS -station har bortfall under högst 4 halvtimmar i följd. Då kopieras den saknade informationen från det sista giltiga mätvärdet. 2. Den andra typen av bortfall är längre än 2 timmar i följd. Då ersätts bortfallet med information från reservstationen från första bortfallshalvtimmen. Ersättningsdata kan t.ex. vara lufttemperatur. På fliken Bortfall preciseras användning av ersättningsdata ytterligare genom att man tillsammans med första och sista tidpunkt för ersättningsdata anger vilken ordinarie VViS -station som ersatts av vilken reserv. 3. Vid den tredje typen av bortfall har även reservstation en fallit bort, dvs. någon typ av väderdata saknas helt och hållet. Då an vänds följande beräkningsmetod. − Ett medel värde för den typ av mätdata, till exempel lufttemperatur, som har bortfall beräknas − Medelvärdet baserat på ett mätvärde av samma typ från varje kombination som är definierad för driftområdet − I första hand hämtas mätvärdet från ordinarie VViS - station, m en om sådant saknas, från reservstationerna i turordning − Kombinationen som har bortfall ersätts av detta medelvärde. Kommentar För timmar med totalt bortfall av någon variabel är regeln att inga väderutfall beräknas. Ett undantag finns dock. Om endast vägytans temperatur har bortfall beräknas väderutfall även om ingen av de vädersituationer som är kopplade till halka kommer med i ersättningsunderlaget. Se exempel 1 från ett fiktivt driftområde nedan. Av fliken Bortfall framgår första och sista tidpunk t för perioder med totalt bortfall tillsammans med en angivelse av att temperaturdata saknas. Exempel 1 Kombination VViS -station Väg ytetemperatur Ordinarie station Reservstation 1 2618 + 1,2°C 2620 + 1,6°C 2 2620 + 1,6°C 2618 + 1,2°C 3 2633 bortfall 2612 bortfall 4 2703 + 1,1°C 2704 +0,8°C 5 2704 + 0,8°C 2705 bortfall 6 2624 bortfall 2622 + 1,3°C'"
      ]
     },
     "execution_count": 8,
     "metadata": {},
     "output_type": "execute_result"
    }
   ],
   "source": [
    "doc_txt"
   ]
  },
  {
   "cell_type": "markdown",
   "metadata": {},
   "source": [
    "### Generate"
   ]
  },
  {
   "cell_type": "code",
   "execution_count": null,
   "metadata": {},
   "outputs": [
    {
     "name": "stdout",
     "output_type": "stream",
     "text": [
      "Data från VViS och MESAN kombineras genom att en medelvärde beräknas för varje typ av mätdata som saknas, baserat på ett mätvärde från ordinarie VViS-stationen. Denna medelvärde används sedan i kombinationen som har bortfall ersattes av det. Exempelvis kan temperaturdata beräknas för perioder med totalt bortfall tillsammans med en angivelse av att temperaturdata saknas.\n"
     ]
    }
   ],
   "source": [
    "### Generate\n",
    "\n",
    "# Prompt\n",
    "rag_prompt = \"\"\"You are an assistant for question-answering tasks in swedish. \n",
    "\n",
    "Here is the context to use to answer the question:\n",
    "\n",
    "{context}\n",
    "\n",
    "Think carefully about the above context. \n",
    "\n",
    "Now, review the user question:\n",
    "\n",
    "{question}\n",
    "\n",
    "Provide an answer to this questions using only the above context. \n",
    "\n",
    "Use three sentences maximum and keep the answer concise.\n",
    "\n",
    "Answer:\"\"\"\n",
    "\n",
    "\n",
    "# Post-processing\n",
    "def format_docs(docs):\n",
    "    return \"\\n\\n\".join(doc.page_content for doc in docs)\n",
    "\n",
    "\n",
    "# Test\n",
    "docs = retriever.invoke(question)\n",
    "docs_txt = format_docs(docs)\n",
    "rag_prompt_formatted = rag_prompt.format(context=docs_txt, question=question)\n",
    "generation = llm.invoke([HumanMessage(content=rag_prompt_formatted)])\n",
    "print(generation.content)"
   ]
  },
  {
   "cell_type": "markdown",
   "metadata": {},
   "source": [
    "### Halluciantion Grader"
   ]
  },
  {
   "cell_type": "code",
   "execution_count": null,
   "metadata": {},
   "outputs": [
    {
     "data": {
      "text/plain": [
       "{'binary_score': 'yes',\n",
       " 'explanation': 'Studenter svar är grundat i fakta och inte på fördom eller misstänkelse.'}"
      ]
     },
     "execution_count": 10,
     "metadata": {},
     "output_type": "execute_result"
    }
   ],
   "source": [
    "# Hallucination grader instructions\n",
    "hallucination_grader_instructions = \"\"\"\n",
    "\n",
    "You are a teacher grading a quiz in Swedish. \n",
    "\n",
    "You will be given FACTS and a STUDENT ANSWER. \n",
    "\n",
    "Here is the grade criteria to follow:\n",
    "\n",
    "(1) Ensure the STUDENT ANSWER is grounded in the FACTS. \n",
    "\n",
    "(2) Ensure the STUDENT ANSWER does not contain \"hallucinated\" information outside the scope of the FACTS.\n",
    "\n",
    "Score:\n",
    "\n",
    "A score of yes means that the student's answer meets all of the criteria. This is the highest (best) score. \n",
    "\n",
    "A score of no means that the student's answer does not meet all of the criteria. This is the lowest possible score you can give.\n",
    "\n",
    "Explain your reasoning in a step-by-step manner to ensure your reasoning and conclusion are correct. \n",
    "\n",
    "Avoid simply stating the correct answer at the outset.\"\"\"\n",
    "\n",
    "# Grader prompt\n",
    "hallucination_grader_prompt = \"\"\"FACTS: \\n\\n {documents} \\n\\n STUDENT ANSWER: {generation}. \n",
    "\n",
    "Return JSON with two two keys, binary_score is 'yes' or 'no' score to indicate whether the STUDENT ANSWER is grounded in the FACTS. And a key, explanation, that contains an explanation of the score.\"\"\"\n",
    "\n",
    "# Test using documents and generation from above\n",
    "hallucination_grader_prompt_formatted = hallucination_grader_prompt.format(\n",
    "    documents=docs_txt, generation=generation.content\n",
    ")\n",
    "result = llm_json_mode.invoke(\n",
    "    [SystemMessage(content=hallucination_grader_instructions)]\n",
    "    + [HumanMessage(content=hallucination_grader_prompt_formatted)]\n",
    ")\n",
    "json.loads(result.content)"
   ]
  },
  {
   "cell_type": "code",
   "execution_count": null,
   "metadata": {},
   "outputs": [
    {
     "data": {
      "text/plain": [
       "{'binary_score': 'no',\n",
       " 'explanation': 'Studentens svar innehåller endast en del av informationen som frågan förespråkar. Det är inte tillräckligt med att beskriva MESAN, och studenten har inte tagit hänsyn till rumslig upplösning i analyserna.'}"
      ]
     },
     "execution_count": 11,
     "metadata": {},
     "output_type": "execute_result"
    }
   ],
   "source": [
    "### Answer Grader\n",
    "\n",
    "# Answer grader instructions\n",
    "answer_grader_instructions = \"\"\"You are a teacher grading a quiz in Swedish. \n",
    "\n",
    "You will be given a QUESTION and a STUDENT ANSWER. \n",
    "\n",
    "Here is the grade criteria to follow:\n",
    "\n",
    "(1) The STUDENT ANSWER helps to answer the QUESTION\n",
    "\n",
    "Score:\n",
    "\n",
    "A score of yes means that the student's answer meets all of the criteria. This is the highest (best) score. \n",
    "\n",
    "The student can receive a score of yes if the answer contains extra information that is not explicitly asked for in the question.\n",
    "\n",
    "A score of no means that the student's answer does not meet all of the criteria. This is the lowest possible score you can give.\n",
    "\n",
    "Explain your reasoning in a step-by-step manner to ensure your reasoning and conclusion are correct. \n",
    "\n",
    "Avoid simply stating the correct answer at the outset.\"\"\"\n",
    "\n",
    "# Grader prompt\n",
    "answer_grader_prompt = \"\"\"QUESTION: \\n\\n {question} \\n\\n STUDENT ANSWER: {generation}. \n",
    "\n",
    "Return JSON with two two keys, binary_score is 'yes' or 'no' score to indicate whether the STUDENT ANSWER meets the criteria. And a key, explanation, that contains an explanation of the score.\"\"\"\n",
    "\n",
    "# Test\n",
    "question = \"Vad är MESAN\"\n",
    "answer = \"MESAN står för MESoskalig ANalys, vilket i korthet innebär numerisk analys av olika meteorologiska parametrar på en nivå som gör att väderfenomen med en rumslig upplösning på ungefär 5–50 km kan beskrivas.\"\n",
    "\n",
    "# Test using question and generation from above\n",
    "answer_grader_prompt_formatted = answer_grader_prompt.format(\n",
    "    question=question, generation=answer\n",
    ")\n",
    "result = llm_json_mode.invoke(\n",
    "    [SystemMessage(content=answer_grader_instructions)]\n",
    "    + [HumanMessage(content=answer_grader_prompt_formatted)]\n",
    ")\n",
    "json.loads(result.content)"
   ]
  },
  {
   "cell_type": "markdown",
   "metadata": {},
   "source": [
    "## Web Search Tool"
   ]
  },
  {
   "cell_type": "code",
   "execution_count": null,
   "metadata": {},
   "outputs": [],
   "source": [
    "from langchain_community.tools.tavily_search import TavilySearchResults\n",
    "\n",
    "web_search_tool = TavilySearchResults(k=3)\n",
    "\n",
    "#web_search_tool.invoke(\"What is Klimator?\")"
   ]
  },
  {
   "cell_type": "markdown",
   "metadata": {},
   "source": [
    "# LangGraph"
   ]
  },
  {
   "cell_type": "code",
   "execution_count": null,
   "metadata": {},
   "outputs": [],
   "source": [
    "import operator\n",
    "from typing_extensions import TypedDict\n",
    "from typing import List, Annotated\n",
    "\n",
    "\n",
    "class GraphState(TypedDict):\n",
    "    \"\"\"\n",
    "    Graph state is a dictionary that contains information we want to propagate to, and modify in, each graph node.\n",
    "    \"\"\"\n",
    "\n",
    "    question: str  # User question\n",
    "    generation: str  # LLM generation\n",
    "    web_search: str  # Binary decision to run web search\n",
    "    max_retries: int  # Max number of retries for answer generation\n",
    "    answers: int  # Number of answers generated\n",
    "    loop_step: Annotated[int, operator.add]\n",
    "    documents: List[str]  # List of retrieved documents"
   ]
  },
  {
   "cell_type": "markdown",
   "metadata": {},
   "source": [
    "### Nodes "
   ]
  },
  {
   "cell_type": "code",
   "execution_count": null,
   "metadata": {},
   "outputs": [],
   "source": [
    "from langchain.schema import Document\n",
    "from langgraph.graph import END\n",
    "\n",
    "\n",
    "### Nodes\n",
    "def retrieve(state):\n",
    "    \"\"\"\n",
    "    Retrieve documents from vectorstore\n",
    "\n",
    "    Args:\n",
    "        state (dict): The current graph state\n",
    "\n",
    "    Returns:\n",
    "        state (dict): New key added to state, documents, that contains retrieved documents\n",
    "    \"\"\"\n",
    "    print(\"---RETRIEVE---\")\n",
    "    question = state[\"question\"]\n",
    "\n",
    "    # Write retrieved documents to documents key in state\n",
    "    documents = retriever.invoke(question)\n",
    "    return {\"documents\": documents}\n",
    "\n",
    "\n",
    "def generate(state):\n",
    "    \"\"\"\n",
    "    Generate answer using RAG on retrieved documents\n",
    "\n",
    "    Args:\n",
    "        state (dict): The current graph state\n",
    "\n",
    "    Returns:\n",
    "        state (dict): New key added to state, generation, that contains LLM generation\n",
    "    \"\"\"\n",
    "    print(\"---GENERATE---\")\n",
    "    question = state[\"question\"]\n",
    "    documents = state[\"documents\"]\n",
    "    loop_step = state.get(\"loop_step\", 0)\n",
    "\n",
    "    # RAG generation\n",
    "    docs_txt = format_docs(documents)\n",
    "    rag_prompt_formatted = rag_prompt.format(context=docs_txt, question=question)\n",
    "    generation = llm.invoke([HumanMessage(content=rag_prompt_formatted)])\n",
    "    return {\"generation\": generation, \"loop_step\": loop_step + 1}\n",
    "\n",
    "\n",
    "def grade_documents(state):\n",
    "    \"\"\"\n",
    "    Determines whether the retrieved documents are relevant to the question\n",
    "    If any document is not relevant, we will set a flag to run web search\n",
    "\n",
    "    Args:\n",
    "        state (dict): The current graph state\n",
    "\n",
    "    Returns:\n",
    "        state (dict): Filtered out irrelevant documents and updated web_search state\n",
    "    \"\"\"\n",
    "\n",
    "    print(\"---CHECK DOCUMENT RELEVANCE TO QUESTION---\")\n",
    "    question = state[\"question\"]\n",
    "    documents = state[\"documents\"]\n",
    "\n",
    "    # Score each doc\n",
    "    filtered_docs = []\n",
    "    \n",
    "    # Track wether any relevant document is found\n",
    "    relevant_doc_found = False\n",
    "\n",
    "    for d in documents:\n",
    "        doc_grader_prompt_formatted = doc_grader_prompt.format(\n",
    "            document=d.page_content, question=question\n",
    "        )\n",
    "        result = llm_json_mode.invoke(\n",
    "            [SystemMessage(content=doc_grader_instructions)]\n",
    "            + [HumanMessage(content=doc_grader_prompt_formatted)]\n",
    "        )\n",
    "        grade = json.loads(result.content)[\"binary_score\"]\n",
    "        # Document relevant\n",
    "        if grade.lower() == \"yes\":\n",
    "            print(\"---GRADE: DOCUMENT RELEVANT---\")\n",
    "            filtered_docs.append(d)\n",
    "            relevant_doc_found = True\n",
    "\n",
    "        # Document not relevant\n",
    "        else:\n",
    "            print(\"---GRADE: DOCUMENT NOT RELEVANT---\")\n",
    "            # We do not include the document in filtered_docs\n",
    "            continue\n",
    "    \n",
    "    web_search = \"No\" if relevant_doc_found else \"Yes\"\n",
    "\n",
    "    return {\"documents\": filtered_docs, \"web_search\": web_search}\n",
    "\n",
    "\n",
    "def web_search(state):\n",
    "    \"\"\"\n",
    "    Web search based based on the question\n",
    "\n",
    "    Args:\n",
    "        state (dict): The current graph state\n",
    "\n",
    "    Returns:\n",
    "        state (dict): Appended web results to documents\n",
    "    \"\"\"\n",
    "\n",
    "    print(\"---WEB SEARCH---\")\n",
    "    question = state[\"question\"]\n",
    "    documents = state.get(\"documents\", [])\n",
    "\n",
    "    # Web search\n",
    "    docs = web_search_tool.invoke({\"query\": question})\n",
    "    web_results = \"\\n\".join([d[\"content\"] for d in docs])\n",
    "    web_results = Document(page_content=web_results)\n",
    "    documents.append(web_results)\n",
    "    return {\"documents\": documents}"
   ]
  },
  {
   "cell_type": "markdown",
   "metadata": {},
   "source": [
    "### Edges"
   ]
  },
  {
   "cell_type": "code",
   "execution_count": null,
   "metadata": {},
   "outputs": [],
   "source": [
    "def route_question(state):\n",
    "    \"\"\"\n",
    "    Route question to web search or RAG\n",
    "\n",
    "    Args:\n",
    "        state (dict): The current graph state\n",
    "\n",
    "    Returns:\n",
    "        str: Next node to call\n",
    "    \"\"\"\n",
    "\n",
    "    print(\"---ROUTE QUESTION---\")\n",
    "    route_question = llm_json_mode.invoke(\n",
    "        [SystemMessage(content=router_instructions)]\n",
    "        + [HumanMessage(content=state[\"question\"])]\n",
    "    )\n",
    "    source = json.loads(route_question.content)[\"datasource\"]\n",
    "    if source == \"websearch\":\n",
    "        print(\"---ROUTE QUESTION TO WEB SEARCH---\")\n",
    "        return \"websearch\"\n",
    "    elif source == \"vectorstore\":\n",
    "        print(\"---ROUTE QUESTION TO RAG---\")\n",
    "        return \"vectorstore\"\n",
    "\n",
    "\n",
    "def decide_to_generate(state):\n",
    "    \"\"\"\n",
    "    Determines whether to generate an answer, or add web search\n",
    "\n",
    "    Args:\n",
    "        state (dict): The current graph state\n",
    "\n",
    "    Returns:\n",
    "        str: Binary decision for next node to call\n",
    "    \"\"\"\n",
    "\n",
    "    print(\"---ASSESS GRADED DOCUMENTS---\")\n",
    "    question = state[\"question\"]\n",
    "    web_search = state[\"web_search\"]\n",
    "    filtered_documents = state[\"documents\"]\n",
    "\n",
    "    if web_search == \"Yes\":\n",
    "        # All documents have been filtered check_relevance\n",
    "        # We will re-generate a new query\n",
    "        print(\n",
    "            \"---DECISION: NOT ALL DOCUMENTS ARE RELEVANT TO QUESTION, INCLUDE WEB SEARCH---\"\n",
    "        )\n",
    "        return \"websearch\"\n",
    "    else:\n",
    "        # We have relevant documents, so generate answer\n",
    "        print(\"---DECISION: GENERATE---\")\n",
    "        return \"generate\"\n",
    "\n",
    "\n",
    "def grade_generation_v_documents_and_question(state):\n",
    "    \"\"\"\n",
    "    Determines whether the generation is grounded in the document and answers question\n",
    "\n",
    "    Args:\n",
    "        state (dict): The current graph state\n",
    "\n",
    "    Returns:\n",
    "        str: Decision for next node to call\n",
    "    \"\"\"\n",
    "\n",
    "    print(\"---CHECK HALLUCINATIONS---\")\n",
    "    question = state[\"question\"]\n",
    "    documents = state[\"documents\"]\n",
    "    generation = state[\"generation\"]\n",
    "    max_retries = state.get(\"max_retries\", 3)  # Default to 3 if not provided\n",
    "\n",
    "    hallucination_grader_prompt_formatted = hallucination_grader_prompt.format(\n",
    "        documents=format_docs(documents), generation=generation.content\n",
    "    )\n",
    "    result = llm_json_mode.invoke(\n",
    "        [SystemMessage(content=hallucination_grader_instructions)]\n",
    "        + [HumanMessage(content=hallucination_grader_prompt_formatted)]\n",
    "    )\n",
    "    grade = json.loads(result.content)[\"binary_score\"]\n",
    "\n",
    "    # Check hallucination\n",
    "    if grade == \"yes\":\n",
    "        print(\"---DECISION: GENERATION IS GROUNDED IN DOCUMENTS---\")\n",
    "        # Check question-answering\n",
    "        print(\"---GRADE GENERATION vs QUESTION---\")\n",
    "        # Test using question and generation from above\n",
    "        answer_grader_prompt_formatted = answer_grader_prompt.format(\n",
    "            question=question, generation=generation.content\n",
    "        )\n",
    "        result = llm_json_mode.invoke(\n",
    "            [SystemMessage(content=answer_grader_instructions)]\n",
    "            + [HumanMessage(content=answer_grader_prompt_formatted)]\n",
    "        )\n",
    "        grade = json.loads(result.content)[\"binary_score\"]\n",
    "        if grade == \"yes\":\n",
    "            print(\"---DECISION: GENERATION ADDRESSES QUESTION---\")\n",
    "            return \"useful\"\n",
    "        elif state[\"loop_step\"] <= max_retries:\n",
    "            print(\"---DECISION: GENERATION DOES NOT ADDRESS QUESTION---\")\n",
    "            return \"not useful\"\n",
    "        else:\n",
    "            print(\"---DECISION: MAX RETRIES REACHED---\")\n",
    "            return \"max retries\"\n",
    "    elif state[\"loop_step\"] <= max_retries:\n",
    "        print(\"---DECISION: GENERATION IS NOT GROUNDED IN DOCUMENTS, RE-TRY---\")\n",
    "        return \"not supported\"\n",
    "    else:\n",
    "        print(\"---DECISION: MAX RETRIES REACHED---\")\n",
    "        return \"max retries\""
   ]
  },
  {
   "cell_type": "markdown",
   "metadata": {},
   "source": [
    "## Control Flow"
   ]
  },
  {
   "cell_type": "code",
   "execution_count": null,
   "metadata": {},
   "outputs": [
    {
     "ename": "NameError",
     "evalue": "name 'GraphState' is not defined",
     "output_type": "error",
     "traceback": [
      "\u001b[0;31m---------------------------------------------------------------------------\u001b[0m",
      "\u001b[0;31mNameError\u001b[0m                                 Traceback (most recent call last)",
      "Cell \u001b[0;32mIn[10], line 4\u001b[0m\n\u001b[1;32m      1\u001b[0m \u001b[38;5;28;01mfrom\u001b[39;00m \u001b[38;5;21;01mlanggraph\u001b[39;00m\u001b[38;5;21;01m.\u001b[39;00m\u001b[38;5;21;01mgraph\u001b[39;00m \u001b[38;5;28;01mimport\u001b[39;00m StateGraph\n\u001b[1;32m      2\u001b[0m \u001b[38;5;28;01mfrom\u001b[39;00m \u001b[38;5;21;01mIPython\u001b[39;00m\u001b[38;5;21;01m.\u001b[39;00m\u001b[38;5;21;01mdisplay\u001b[39;00m \u001b[38;5;28;01mimport\u001b[39;00m Image, display\n\u001b[0;32m----> 4\u001b[0m workflow \u001b[38;5;241m=\u001b[39m StateGraph(\u001b[43mGraphState\u001b[49m)\n\u001b[1;32m      6\u001b[0m \u001b[38;5;66;03m# Define the nodes\u001b[39;00m\n\u001b[1;32m      7\u001b[0m workflow\u001b[38;5;241m.\u001b[39madd_node(\u001b[38;5;124m\"\u001b[39m\u001b[38;5;124mwebsearch\u001b[39m\u001b[38;5;124m\"\u001b[39m, web_search)  \u001b[38;5;66;03m# web search\u001b[39;00m\n",
      "\u001b[0;31mNameError\u001b[0m: name 'GraphState' is not defined"
     ]
    }
   ],
   "source": [
    "from langgraph.graph import StateGraph\n",
    "from IPython.display import Image, display\n",
    "\n",
    "workflow = StateGraph(GraphState)\n",
    "\n",
    "# Define the nodes\n",
    "workflow.add_node(\"websearch\", web_search)  # web search\n",
    "workflow.add_node(\"retrieve\", retrieve)  # retrieve\n",
    "workflow.add_node(\"grade_documents\", grade_documents)  # grade documents\n",
    "workflow.add_node(\"generate\", generate)  # generate\n",
    "\n",
    "# Build graph\n",
    "workflow.set_conditional_entry_point(\n",
    "    route_question,\n",
    "    {\n",
    "        \"websearch\": \"websearch\",\n",
    "        \"vectorstore\": \"retrieve\",\n",
    "    },\n",
    ")\n",
    "workflow.add_edge(\"websearch\", \"generate\")\n",
    "workflow.add_edge(\"retrieve\", \"grade_documents\")\n",
    "workflow.add_conditional_edges(\n",
    "    \"grade_documents\",\n",
    "    decide_to_generate,\n",
    "    {\n",
    "        \"websearch\": \"websearch\",\n",
    "        \"generate\": \"generate\",\n",
    "    },\n",
    ")\n",
    "workflow.add_conditional_edges(\n",
    "    \"generate\",\n",
    "    grade_generation_v_documents_and_question,\n",
    "    {\n",
    "        \"not supported\": \"generate\",\n",
    "        \"useful\": END,\n",
    "        \"not useful\": \"websearch\",\n",
    "        \"max retries\": END,\n",
    "    },\n",
    ")\n",
    "\n",
    "# Compile\n",
    "graph = workflow.compile()\n",
    "display(Image(graph.get_graph().draw_mermaid_png()))"
   ]
  },
  {
   "cell_type": "code",
   "execution_count": null,
   "metadata": {},
   "outputs": [
    {
     "name": "stdout",
     "output_type": "stream",
     "text": [
      "---ROUTE QUESTION---\n",
      "---ROUTE QUESTION TO RAG---\n",
      "{'question': 'Hur beräknas ersättningsunderlaget vid upprepade snöfall eller snödrev?', 'max_retries': 3, 'loop_step': 0}\n",
      "---RETRIEVE---\n",
      "{'question': 'Hur beräknas ersättningsunderlaget vid upprepade snöfall eller snödrev?', 'max_retries': 3, 'loop_step': 0, 'documents': [Document(metadata={'id': 'a52c0938-a887-4fcc-ba94-9aa95fd5ce08', 'page_number': 21}, page_content='21 4 Beräkning av ersättningsunderlag Utgångspunkten för beräkningar av väderutfall – grunden för ersättning av vinterväghållningsåtgärder – är de väderbeskrivningar på timnivå som tas fram inom ett driftområde för varje kombination av VViS -station och MESAN -ruta. Beräkningar av väderutfall görs för en kombination i taget och sammanfattas sedan för hela driftområdet. Beräkningen utförs stegvis enligt prioritetsordning. Varje beräkningssteg om fattar tre moment; Första momentet i varje beräkningssteg är att sammanföra vädersituationerna på timnivå till längre vädertillfällen (se avsnitt 4.2). Ett vädertillfälle är exempelvis ett snöfall som pågår nästan varje timme mellan kl. 04 och 18. Ett anna t exempel på vädertillfälle är en rimfrosthalka som uppträder från kl. 10 och 6 timmar framåt. För att vissa vädertillfällen ska resultera i väderutfall krävs det att vädret pågår under ett antal timmar, dvs. har en viss minsta varaktighet. En enstaka timm e med snödrev räcker inte för att det ska klassas som utfall av snödrev. Kravet kan i stället vara att snödrevet ska pågå under minst 4 timmar inom det avgränsade vädertillfället. Andra momentet i beräkningssteget blir därför att testa varaktigheten. Dett a är aktuellt för vädersituationerna Särskilt väder 1 (SV1), Långvariga snödrev (SV1 drev) och snödr ev (D). Det tredje momentet i beräkningssteget är att sönderdela vädertillfällena i väderutfall som är det mått som anges i ersättningsunderlaget. Sönderdel ning gäller alla vädertillfällen utom SV1Drev, SV1 och SV2. 4.1 Beräkningsordning Ersättningsunderlaget beräknas i följande prioritetsordning. 1. Långvariga snödrev (SV1Drev) 2. Särskilt väder 1 (SV1) 3. Särskilt väder 2 (SV2) 4. Snödrev (D) 5. Snöfall (S) 6. Halkor av alla typer (HN, HT, HR2 HS och HR1) Beräkningsordningen innebär att om man under en viss period får ett väderutfall, t.ex. snödrev, så undersöks inte någon av efterföljande typer av väderutfall, snöfall och halkor under denna period. Kommentar 1 Ersättningsunderlaget för långvariga snödrev kan beräknas först när ersättningsunderlagen för Särskilt väder 1 och snödrev har beräknats. Kommentar 2 Ersättningsunderlag för långvariga snödrev beräknas bara i vissa utpekade områden (se bilaga till MF) .'), Document(metadata={'id': '04a9f8c9-950b-467d-8f80-7c23bd50de0c', 'page_number': 11}, page_content='2018- 09-05 11 Kommentar 2 Den detaljerade beräkningsmodellen för att testa om drevbenägen snö förekommer är relativt omfat -\\ntande och redovisas i bilaga 1. Snödrev (D) Snödrev definieras som att vindhastigheten ska uppgå till minst V D m/s samtidigt som drevbenägen snö förekommer. Värdet på V D varierar och redovisas på annan plats i aktuellt förfråg ningsunderlag. Drevbenägen snö definieras på samma sätt som för SV1. Snöfall (S) Vädersituation snöfall innebär att nederbördstyp snö förekommer. Halka på grund av litet snöfall (HS) Denna vädersituation uppstår om följande villkor är uppfyllda. 1. Halvtimmen har en snömängd som är större än 0 mm och är en del av timme X som ingår i någon period om 4 heltimmar i följd med en snömängd på högst 5,0 mm 2. Vägytans temperatur under halvtimmen X.30 ligger mellan +0,9°C och - 9,9°C HS avgränsas enligt exempel 2 på nästa sida.'), Document(metadata={'id': 'b6c1efff-5072-498c-9034-83a1727c104a', 'page_number': 28}, page_content='28 4.6 Beräkning a v väderutfall Särskilt väder 1 långvarigt snödrev (SV1Drev) I utpekade områden (se bilaga till MF) gäller nedanstående beskrivning vid långvarigt snödrev, SV1Drev. I dessa områden kan snödrev under lång tid jämställas med Särskilt väder 1. 1. Alla timmar med vädersituation D under den aktuella beräkningsperioden avgränsas till vädertillfällen, D -tillfällen, enligt metoden i figur 3 nedan 2. Minst 30 stycken enskilda timmar med vädersituation D eller SV1 har förekommit under en period på högst 48 t immar inom det avgränsade snödrevstillfället 3. Prioritetsordningen vid beräkning av de tre olika typerna av särskilt väder är SV1Drev, SV1 och SV2. D ≤ 11 tim. D ≥ 12 tim. D <--------------------> <------------- > < ---------------------------> första tillfälle med D andra tillfälle med D <---------------------------------------------------- > <---------------------------> Figur 3 . Avgränsning av vädertillfällen med vädersituation s nödrev. Se exempel 12 på SV1Drev på nästa sida, som förutsättning gäller att 2014- 01-27 kl 00 har ingen snö fallit de senaste 14 dygnen.'), Document(metadata={'id': '2621d492-6a92-4548-a2e2-09bb0e2116ff', 'page_number': 32}, page_content='32 Figur 5 Beskrivning av de steg i avsnitt 4.5. Beräkning av väderutfall Snödrev och 4.7 Beräkning av väderutfall Snöfall som tillämpats för att beräkna väderutfallen. Snödrev: Steg 1, 2, 3, 4, 4.1, 5, 5.2 och 5.3. Snöfall: Steg 1, 4 och 5. Timme 1 2 3 4 5 6 7 8 9 10 11 12 13 14 15 16 17 18\\nVädersituation D D D D HS HS HS HR1 D D D D D HS\\nSnömängd (mm)\\nväderutfall\\nSnödrev: Steg 1, 2, 3, 4, 4.1, 5 och 5.1. Snöfall: Steg 1, 2 och 4. Timme 1 2 3 4 5 6 7 8 9 10 11 12 13 14 15 16 17 18\\nVädersituation D D D D S S S HS HS D D D D D D\\nSnömängd (mm)\\nväderutfall\\nSnödrev: Steg 1, 2, 3, 4, 4.1, 5 och 5.1. Snöfall: Steg 1, 2 och 4. Timme 1 2 3 4 5 6 7 8 9 10 11 12 13 14 15 16 17 18\\nVädersituation D D D D S S HR1 D D D D D D\\nSnömängd (mm) 0,0\\nväderutfall\\nSnödrev: Steg 1, 2, 3, 4, 4.1, 5 och 5.1. Snöfall: Steg 1, 2 och 4. Timme 1 2 3 4 5 6 7 8 9 10 11 12 13 14 15 16 17 18\\nVädersituation D D D D S HS D D D D D D\\nSnömängd (mm)\\nväderutfall\\nSnödrev: Steg 1, 2, 3, 4, 4.1, 5 och 5.2.\\nTimme 1 2 3 4 5 6 7 8 9 10 11 12 13 14 15 16 17 18 19 20 21 22\\nVädersituation D D D D HS HS HS HR1 HS HR1 D D D D D D\\nSnömängd (mm)\\nväderutfall> 5,0 ≤ 5,0 0,0 > 5,0\\nsnöfall ≤ 5,0 mm snöfall ≤ 5,0 mm snödrev > 5,0 mm snödrev ≤ 5,0 mm inga väderutfall ber.≤ 5,0 ≤ 5,0\\n≤ 5,0\\nsnödrev ≤ 5,0 mm snöfall > 5,0 mm snöfall ≤ 5,0 mm snödrev > 5,0 mm snödrev ≤ 5,0 mm≤ 5,0 > 5,0 ≤ 5,0 > 5,0\\n≤ 5,0\\nsnödrev ≤ 5,0 mm snöfall > 5,0 mm snöfall ≤ 5,0 mm snödrev > 5,0 mm snödrev ≤ 5,0 mm≤ 5,0 > 5,0 0,0 > 5,0\\n> 5,0 ≤ 5,0\\nsnödrev ≤ 5,0 mm snödrev > 5,0 mm snödrev ≤ 5,0 mm> 5,0 ≤ 5,0\\nsnöfall ≤ 5,0 mm snöfall > 5,0 mm\\n≤ 5,0\\nsnödrev ≤ 5,0 mm snöfall ≤ 5,0 mm snöfall ≤ 5,0 mm snöfall ≤ 5,0 mm snödrev > 5,0 mm snödrev ≤ 5,0 mm≤ 5,0 ≤ 5,0 ≤ 5,0 > 5,0 0,0snöfall ≤ 5,0 mm\\n≤ 5,0snödrev > 5,0 mm')]}\n",
      "---CHECK DOCUMENT RELEVANCE TO QUESTION---\n",
      "---GRADE: DOCUMENT RELEVANT---\n",
      "---GRADE: DOCUMENT RELEVANT---\n",
      "---GRADE: DOCUMENT RELEVANT---\n",
      "---GRADE: DOCUMENT RELEVANT---\n",
      "---ASSESS GRADED DOCUMENTS---\n",
      "---DECISION: GENERATE---\n",
      "{'question': 'Hur beräknas ersättningsunderlaget vid upprepade snöfall eller snödrev?', 'web_search': 'No', 'max_retries': 3, 'loop_step': 0, 'documents': [Document(metadata={'id': 'a52c0938-a887-4fcc-ba94-9aa95fd5ce08', 'page_number': 21}, page_content='21 4 Beräkning av ersättningsunderlag Utgångspunkten för beräkningar av väderutfall – grunden för ersättning av vinterväghållningsåtgärder – är de väderbeskrivningar på timnivå som tas fram inom ett driftområde för varje kombination av VViS -station och MESAN -ruta. Beräkningar av väderutfall görs för en kombination i taget och sammanfattas sedan för hela driftområdet. Beräkningen utförs stegvis enligt prioritetsordning. Varje beräkningssteg om fattar tre moment; Första momentet i varje beräkningssteg är att sammanföra vädersituationerna på timnivå till längre vädertillfällen (se avsnitt 4.2). Ett vädertillfälle är exempelvis ett snöfall som pågår nästan varje timme mellan kl. 04 och 18. Ett anna t exempel på vädertillfälle är en rimfrosthalka som uppträder från kl. 10 och 6 timmar framåt. För att vissa vädertillfällen ska resultera i väderutfall krävs det att vädret pågår under ett antal timmar, dvs. har en viss minsta varaktighet. En enstaka timm e med snödrev räcker inte för att det ska klassas som utfall av snödrev. Kravet kan i stället vara att snödrevet ska pågå under minst 4 timmar inom det avgränsade vädertillfället. Andra momentet i beräkningssteget blir därför att testa varaktigheten. Dett a är aktuellt för vädersituationerna Särskilt väder 1 (SV1), Långvariga snödrev (SV1 drev) och snödr ev (D). Det tredje momentet i beräkningssteget är att sönderdela vädertillfällena i väderutfall som är det mått som anges i ersättningsunderlaget. Sönderdel ning gäller alla vädertillfällen utom SV1Drev, SV1 och SV2. 4.1 Beräkningsordning Ersättningsunderlaget beräknas i följande prioritetsordning. 1. Långvariga snödrev (SV1Drev) 2. Särskilt väder 1 (SV1) 3. Särskilt väder 2 (SV2) 4. Snödrev (D) 5. Snöfall (S) 6. Halkor av alla typer (HN, HT, HR2 HS och HR1) Beräkningsordningen innebär att om man under en viss period får ett väderutfall, t.ex. snödrev, så undersöks inte någon av efterföljande typer av väderutfall, snöfall och halkor under denna period. Kommentar 1 Ersättningsunderlaget för långvariga snödrev kan beräknas först när ersättningsunderlagen för Särskilt väder 1 och snödrev har beräknats. Kommentar 2 Ersättningsunderlag för långvariga snödrev beräknas bara i vissa utpekade områden (se bilaga till MF) .'), Document(metadata={'id': '04a9f8c9-950b-467d-8f80-7c23bd50de0c', 'page_number': 11}, page_content='2018- 09-05 11 Kommentar 2 Den detaljerade beräkningsmodellen för att testa om drevbenägen snö förekommer är relativt omfat -\\ntande och redovisas i bilaga 1. Snödrev (D) Snödrev definieras som att vindhastigheten ska uppgå till minst V D m/s samtidigt som drevbenägen snö förekommer. Värdet på V D varierar och redovisas på annan plats i aktuellt förfråg ningsunderlag. Drevbenägen snö definieras på samma sätt som för SV1. Snöfall (S) Vädersituation snöfall innebär att nederbördstyp snö förekommer. Halka på grund av litet snöfall (HS) Denna vädersituation uppstår om följande villkor är uppfyllda. 1. Halvtimmen har en snömängd som är större än 0 mm och är en del av timme X som ingår i någon period om 4 heltimmar i följd med en snömängd på högst 5,0 mm 2. Vägytans temperatur under halvtimmen X.30 ligger mellan +0,9°C och - 9,9°C HS avgränsas enligt exempel 2 på nästa sida.'), Document(metadata={'id': 'b6c1efff-5072-498c-9034-83a1727c104a', 'page_number': 28}, page_content='28 4.6 Beräkning a v väderutfall Särskilt väder 1 långvarigt snödrev (SV1Drev) I utpekade områden (se bilaga till MF) gäller nedanstående beskrivning vid långvarigt snödrev, SV1Drev. I dessa områden kan snödrev under lång tid jämställas med Särskilt väder 1. 1. Alla timmar med vädersituation D under den aktuella beräkningsperioden avgränsas till vädertillfällen, D -tillfällen, enligt metoden i figur 3 nedan 2. Minst 30 stycken enskilda timmar med vädersituation D eller SV1 har förekommit under en period på högst 48 t immar inom det avgränsade snödrevstillfället 3. Prioritetsordningen vid beräkning av de tre olika typerna av särskilt väder är SV1Drev, SV1 och SV2. D ≤ 11 tim. D ≥ 12 tim. D <--------------------> <------------- > < ---------------------------> första tillfälle med D andra tillfälle med D <---------------------------------------------------- > <---------------------------> Figur 3 . Avgränsning av vädertillfällen med vädersituation s nödrev. Se exempel 12 på SV1Drev på nästa sida, som förutsättning gäller att 2014- 01-27 kl 00 har ingen snö fallit de senaste 14 dygnen.'), Document(metadata={'id': '2621d492-6a92-4548-a2e2-09bb0e2116ff', 'page_number': 32}, page_content='32 Figur 5 Beskrivning av de steg i avsnitt 4.5. Beräkning av väderutfall Snödrev och 4.7 Beräkning av väderutfall Snöfall som tillämpats för att beräkna väderutfallen. Snödrev: Steg 1, 2, 3, 4, 4.1, 5, 5.2 och 5.3. Snöfall: Steg 1, 4 och 5. Timme 1 2 3 4 5 6 7 8 9 10 11 12 13 14 15 16 17 18\\nVädersituation D D D D HS HS HS HR1 D D D D D HS\\nSnömängd (mm)\\nväderutfall\\nSnödrev: Steg 1, 2, 3, 4, 4.1, 5 och 5.1. Snöfall: Steg 1, 2 och 4. Timme 1 2 3 4 5 6 7 8 9 10 11 12 13 14 15 16 17 18\\nVädersituation D D D D S S S HS HS D D D D D D\\nSnömängd (mm)\\nväderutfall\\nSnödrev: Steg 1, 2, 3, 4, 4.1, 5 och 5.1. Snöfall: Steg 1, 2 och 4. Timme 1 2 3 4 5 6 7 8 9 10 11 12 13 14 15 16 17 18\\nVädersituation D D D D S S HR1 D D D D D D\\nSnömängd (mm) 0,0\\nväderutfall\\nSnödrev: Steg 1, 2, 3, 4, 4.1, 5 och 5.1. Snöfall: Steg 1, 2 och 4. Timme 1 2 3 4 5 6 7 8 9 10 11 12 13 14 15 16 17 18\\nVädersituation D D D D S HS D D D D D D\\nSnömängd (mm)\\nväderutfall\\nSnödrev: Steg 1, 2, 3, 4, 4.1, 5 och 5.2.\\nTimme 1 2 3 4 5 6 7 8 9 10 11 12 13 14 15 16 17 18 19 20 21 22\\nVädersituation D D D D HS HS HS HR1 HS HR1 D D D D D D\\nSnömängd (mm)\\nväderutfall> 5,0 ≤ 5,0 0,0 > 5,0\\nsnöfall ≤ 5,0 mm snöfall ≤ 5,0 mm snödrev > 5,0 mm snödrev ≤ 5,0 mm inga väderutfall ber.≤ 5,0 ≤ 5,0\\n≤ 5,0\\nsnödrev ≤ 5,0 mm snöfall > 5,0 mm snöfall ≤ 5,0 mm snödrev > 5,0 mm snödrev ≤ 5,0 mm≤ 5,0 > 5,0 ≤ 5,0 > 5,0\\n≤ 5,0\\nsnödrev ≤ 5,0 mm snöfall > 5,0 mm snöfall ≤ 5,0 mm snödrev > 5,0 mm snödrev ≤ 5,0 mm≤ 5,0 > 5,0 0,0 > 5,0\\n> 5,0 ≤ 5,0\\nsnödrev ≤ 5,0 mm snödrev > 5,0 mm snödrev ≤ 5,0 mm> 5,0 ≤ 5,0\\nsnöfall ≤ 5,0 mm snöfall > 5,0 mm\\n≤ 5,0\\nsnödrev ≤ 5,0 mm snöfall ≤ 5,0 mm snöfall ≤ 5,0 mm snöfall ≤ 5,0 mm snödrev > 5,0 mm snödrev ≤ 5,0 mm≤ 5,0 ≤ 5,0 ≤ 5,0 > 5,0 0,0snöfall ≤ 5,0 mm\\n≤ 5,0snödrev > 5,0 mm')]}\n",
      "---GENERATE---\n",
      "---CHECK HALLUCINATIONS---\n",
      "---DECISION: GENERATION IS GROUNDED IN DOCUMENTS---\n",
      "---GRADE GENERATION vs QUESTION---\n",
      "---DECISION: GENERATION DOES NOT ADDRESS QUESTION---\n",
      "{'question': 'Hur beräknas ersättningsunderlaget vid upprepade snöfall eller snödrev?', 'generation': AIMessage(content='Ersättningsunderlaget beräknas genom att lägga till antalet snöfall och snödrev i en sammansättning, där snöfall är 1,0 mm och snödrev är 2,5 mm. Detta beräkning sker för att uppskatta den totala mängden ersättningsunderlag som behövs för att täcka upp de snöfläckar som inte kan täcks av enkla underlägg. Ersättningsunderlaget kan sedan användas för att beräkna antalet snöfall och snödrev som behöver ersättas med nya underlägg.', additional_kwargs={}, response_metadata={'model': 'llama3.2:1b-instruct-fp16', 'created_at': '2024-10-31T14:21:39.879259Z', 'message': {'role': 'assistant', 'content': ''}, 'done_reason': 'stop', 'done': True, 'total_duration': 9650166583, 'load_duration': 39118291, 'prompt_eval_count': 1026, 'prompt_eval_duration': 1254731000, 'eval_count': 154, 'eval_duration': 8353975000}, id='run-bcc71ea6-bc57-4477-b736-ea7fac595342-0', usage_metadata={'input_tokens': 1026, 'output_tokens': 154, 'total_tokens': 1180}), 'web_search': 'No', 'max_retries': 3, 'loop_step': 1, 'documents': [Document(metadata={'id': 'a52c0938-a887-4fcc-ba94-9aa95fd5ce08', 'page_number': 21}, page_content='21 4 Beräkning av ersättningsunderlag Utgångspunkten för beräkningar av väderutfall – grunden för ersättning av vinterväghållningsåtgärder – är de väderbeskrivningar på timnivå som tas fram inom ett driftområde för varje kombination av VViS -station och MESAN -ruta. Beräkningar av väderutfall görs för en kombination i taget och sammanfattas sedan för hela driftområdet. Beräkningen utförs stegvis enligt prioritetsordning. Varje beräkningssteg om fattar tre moment; Första momentet i varje beräkningssteg är att sammanföra vädersituationerna på timnivå till längre vädertillfällen (se avsnitt 4.2). Ett vädertillfälle är exempelvis ett snöfall som pågår nästan varje timme mellan kl. 04 och 18. Ett anna t exempel på vädertillfälle är en rimfrosthalka som uppträder från kl. 10 och 6 timmar framåt. För att vissa vädertillfällen ska resultera i väderutfall krävs det att vädret pågår under ett antal timmar, dvs. har en viss minsta varaktighet. En enstaka timm e med snödrev räcker inte för att det ska klassas som utfall av snödrev. Kravet kan i stället vara att snödrevet ska pågå under minst 4 timmar inom det avgränsade vädertillfället. Andra momentet i beräkningssteget blir därför att testa varaktigheten. Dett a är aktuellt för vädersituationerna Särskilt väder 1 (SV1), Långvariga snödrev (SV1 drev) och snödr ev (D). Det tredje momentet i beräkningssteget är att sönderdela vädertillfällena i väderutfall som är det mått som anges i ersättningsunderlaget. Sönderdel ning gäller alla vädertillfällen utom SV1Drev, SV1 och SV2. 4.1 Beräkningsordning Ersättningsunderlaget beräknas i följande prioritetsordning. 1. Långvariga snödrev (SV1Drev) 2. Särskilt väder 1 (SV1) 3. Särskilt väder 2 (SV2) 4. Snödrev (D) 5. Snöfall (S) 6. Halkor av alla typer (HN, HT, HR2 HS och HR1) Beräkningsordningen innebär att om man under en viss period får ett väderutfall, t.ex. snödrev, så undersöks inte någon av efterföljande typer av väderutfall, snöfall och halkor under denna period. Kommentar 1 Ersättningsunderlaget för långvariga snödrev kan beräknas först när ersättningsunderlagen för Särskilt väder 1 och snödrev har beräknats. Kommentar 2 Ersättningsunderlag för långvariga snödrev beräknas bara i vissa utpekade områden (se bilaga till MF) .'), Document(metadata={'id': '04a9f8c9-950b-467d-8f80-7c23bd50de0c', 'page_number': 11}, page_content='2018- 09-05 11 Kommentar 2 Den detaljerade beräkningsmodellen för att testa om drevbenägen snö förekommer är relativt omfat -\\ntande och redovisas i bilaga 1. Snödrev (D) Snödrev definieras som att vindhastigheten ska uppgå till minst V D m/s samtidigt som drevbenägen snö förekommer. Värdet på V D varierar och redovisas på annan plats i aktuellt förfråg ningsunderlag. Drevbenägen snö definieras på samma sätt som för SV1. Snöfall (S) Vädersituation snöfall innebär att nederbördstyp snö förekommer. Halka på grund av litet snöfall (HS) Denna vädersituation uppstår om följande villkor är uppfyllda. 1. Halvtimmen har en snömängd som är större än 0 mm och är en del av timme X som ingår i någon period om 4 heltimmar i följd med en snömängd på högst 5,0 mm 2. Vägytans temperatur under halvtimmen X.30 ligger mellan +0,9°C och - 9,9°C HS avgränsas enligt exempel 2 på nästa sida.'), Document(metadata={'id': 'b6c1efff-5072-498c-9034-83a1727c104a', 'page_number': 28}, page_content='28 4.6 Beräkning a v väderutfall Särskilt väder 1 långvarigt snödrev (SV1Drev) I utpekade områden (se bilaga till MF) gäller nedanstående beskrivning vid långvarigt snödrev, SV1Drev. I dessa områden kan snödrev under lång tid jämställas med Särskilt väder 1. 1. Alla timmar med vädersituation D under den aktuella beräkningsperioden avgränsas till vädertillfällen, D -tillfällen, enligt metoden i figur 3 nedan 2. Minst 30 stycken enskilda timmar med vädersituation D eller SV1 har förekommit under en period på högst 48 t immar inom det avgränsade snödrevstillfället 3. Prioritetsordningen vid beräkning av de tre olika typerna av särskilt väder är SV1Drev, SV1 och SV2. D ≤ 11 tim. D ≥ 12 tim. D <--------------------> <------------- > < ---------------------------> första tillfälle med D andra tillfälle med D <---------------------------------------------------- > <---------------------------> Figur 3 . Avgränsning av vädertillfällen med vädersituation s nödrev. Se exempel 12 på SV1Drev på nästa sida, som förutsättning gäller att 2014- 01-27 kl 00 har ingen snö fallit de senaste 14 dygnen.'), Document(metadata={'id': '2621d492-6a92-4548-a2e2-09bb0e2116ff', 'page_number': 32}, page_content='32 Figur 5 Beskrivning av de steg i avsnitt 4.5. Beräkning av väderutfall Snödrev och 4.7 Beräkning av väderutfall Snöfall som tillämpats för att beräkna väderutfallen. Snödrev: Steg 1, 2, 3, 4, 4.1, 5, 5.2 och 5.3. Snöfall: Steg 1, 4 och 5. Timme 1 2 3 4 5 6 7 8 9 10 11 12 13 14 15 16 17 18\\nVädersituation D D D D HS HS HS HR1 D D D D D HS\\nSnömängd (mm)\\nväderutfall\\nSnödrev: Steg 1, 2, 3, 4, 4.1, 5 och 5.1. Snöfall: Steg 1, 2 och 4. Timme 1 2 3 4 5 6 7 8 9 10 11 12 13 14 15 16 17 18\\nVädersituation D D D D S S S HS HS D D D D D D\\nSnömängd (mm)\\nväderutfall\\nSnödrev: Steg 1, 2, 3, 4, 4.1, 5 och 5.1. Snöfall: Steg 1, 2 och 4. Timme 1 2 3 4 5 6 7 8 9 10 11 12 13 14 15 16 17 18\\nVädersituation D D D D S S HR1 D D D D D D\\nSnömängd (mm) 0,0\\nväderutfall\\nSnödrev: Steg 1, 2, 3, 4, 4.1, 5 och 5.1. Snöfall: Steg 1, 2 och 4. Timme 1 2 3 4 5 6 7 8 9 10 11 12 13 14 15 16 17 18\\nVädersituation D D D D S HS D D D D D D\\nSnömängd (mm)\\nväderutfall\\nSnödrev: Steg 1, 2, 3, 4, 4.1, 5 och 5.2.\\nTimme 1 2 3 4 5 6 7 8 9 10 11 12 13 14 15 16 17 18 19 20 21 22\\nVädersituation D D D D HS HS HS HR1 HS HR1 D D D D D D\\nSnömängd (mm)\\nväderutfall> 5,0 ≤ 5,0 0,0 > 5,0\\nsnöfall ≤ 5,0 mm snöfall ≤ 5,0 mm snödrev > 5,0 mm snödrev ≤ 5,0 mm inga väderutfall ber.≤ 5,0 ≤ 5,0\\n≤ 5,0\\nsnödrev ≤ 5,0 mm snöfall > 5,0 mm snöfall ≤ 5,0 mm snödrev > 5,0 mm snödrev ≤ 5,0 mm≤ 5,0 > 5,0 ≤ 5,0 > 5,0\\n≤ 5,0\\nsnödrev ≤ 5,0 mm snöfall > 5,0 mm snöfall ≤ 5,0 mm snödrev > 5,0 mm snödrev ≤ 5,0 mm≤ 5,0 > 5,0 0,0 > 5,0\\n> 5,0 ≤ 5,0\\nsnödrev ≤ 5,0 mm snödrev > 5,0 mm snödrev ≤ 5,0 mm> 5,0 ≤ 5,0\\nsnöfall ≤ 5,0 mm snöfall > 5,0 mm\\n≤ 5,0\\nsnödrev ≤ 5,0 mm snöfall ≤ 5,0 mm snöfall ≤ 5,0 mm snöfall ≤ 5,0 mm snödrev > 5,0 mm snödrev ≤ 5,0 mm≤ 5,0 ≤ 5,0 ≤ 5,0 > 5,0 0,0snöfall ≤ 5,0 mm\\n≤ 5,0snödrev > 5,0 mm')]}\n",
      "---WEB SEARCH---\n",
      "{'question': 'Hur beräknas ersättningsunderlaget vid upprepade snöfall eller snödrev?', 'generation': AIMessage(content='Ersättningsunderlaget beräknas genom att lägga till antalet snöfall och snödrev i en sammansättning, där snöfall är 1,0 mm och snödrev är 2,5 mm. Detta beräkning sker för att uppskatta den totala mängden ersättningsunderlag som behövs för att täcka upp de snöfläckar som inte kan täcks av enkla underlägg. Ersättningsunderlaget kan sedan användas för att beräkna antalet snöfall och snödrev som behöver ersättas med nya underlägg.', additional_kwargs={}, response_metadata={'model': 'llama3.2:1b-instruct-fp16', 'created_at': '2024-10-31T14:21:39.879259Z', 'message': {'role': 'assistant', 'content': ''}, 'done_reason': 'stop', 'done': True, 'total_duration': 9650166583, 'load_duration': 39118291, 'prompt_eval_count': 1026, 'prompt_eval_duration': 1254731000, 'eval_count': 154, 'eval_duration': 8353975000}, id='run-bcc71ea6-bc57-4477-b736-ea7fac595342-0', usage_metadata={'input_tokens': 1026, 'output_tokens': 154, 'total_tokens': 1180}), 'web_search': 'No', 'max_retries': 3, 'loop_step': 1, 'documents': [Document(metadata={'id': 'a52c0938-a887-4fcc-ba94-9aa95fd5ce08', 'page_number': 21}, page_content='21 4 Beräkning av ersättningsunderlag Utgångspunkten för beräkningar av väderutfall – grunden för ersättning av vinterväghållningsåtgärder – är de väderbeskrivningar på timnivå som tas fram inom ett driftområde för varje kombination av VViS -station och MESAN -ruta. Beräkningar av väderutfall görs för en kombination i taget och sammanfattas sedan för hela driftområdet. Beräkningen utförs stegvis enligt prioritetsordning. Varje beräkningssteg om fattar tre moment; Första momentet i varje beräkningssteg är att sammanföra vädersituationerna på timnivå till längre vädertillfällen (se avsnitt 4.2). Ett vädertillfälle är exempelvis ett snöfall som pågår nästan varje timme mellan kl. 04 och 18. Ett anna t exempel på vädertillfälle är en rimfrosthalka som uppträder från kl. 10 och 6 timmar framåt. För att vissa vädertillfällen ska resultera i väderutfall krävs det att vädret pågår under ett antal timmar, dvs. har en viss minsta varaktighet. En enstaka timm e med snödrev räcker inte för att det ska klassas som utfall av snödrev. Kravet kan i stället vara att snödrevet ska pågå under minst 4 timmar inom det avgränsade vädertillfället. Andra momentet i beräkningssteget blir därför att testa varaktigheten. Dett a är aktuellt för vädersituationerna Särskilt väder 1 (SV1), Långvariga snödrev (SV1 drev) och snödr ev (D). Det tredje momentet i beräkningssteget är att sönderdela vädertillfällena i väderutfall som är det mått som anges i ersättningsunderlaget. Sönderdel ning gäller alla vädertillfällen utom SV1Drev, SV1 och SV2. 4.1 Beräkningsordning Ersättningsunderlaget beräknas i följande prioritetsordning. 1. Långvariga snödrev (SV1Drev) 2. Särskilt väder 1 (SV1) 3. Särskilt väder 2 (SV2) 4. Snödrev (D) 5. Snöfall (S) 6. Halkor av alla typer (HN, HT, HR2 HS och HR1) Beräkningsordningen innebär att om man under en viss period får ett väderutfall, t.ex. snödrev, så undersöks inte någon av efterföljande typer av väderutfall, snöfall och halkor under denna period. Kommentar 1 Ersättningsunderlaget för långvariga snödrev kan beräknas först när ersättningsunderlagen för Särskilt väder 1 och snödrev har beräknats. Kommentar 2 Ersättningsunderlag för långvariga snödrev beräknas bara i vissa utpekade områden (se bilaga till MF) .'), Document(metadata={'id': '04a9f8c9-950b-467d-8f80-7c23bd50de0c', 'page_number': 11}, page_content='2018- 09-05 11 Kommentar 2 Den detaljerade beräkningsmodellen för att testa om drevbenägen snö förekommer är relativt omfat -\\ntande och redovisas i bilaga 1. Snödrev (D) Snödrev definieras som att vindhastigheten ska uppgå till minst V D m/s samtidigt som drevbenägen snö förekommer. Värdet på V D varierar och redovisas på annan plats i aktuellt förfråg ningsunderlag. Drevbenägen snö definieras på samma sätt som för SV1. Snöfall (S) Vädersituation snöfall innebär att nederbördstyp snö förekommer. Halka på grund av litet snöfall (HS) Denna vädersituation uppstår om följande villkor är uppfyllda. 1. Halvtimmen har en snömängd som är större än 0 mm och är en del av timme X som ingår i någon period om 4 heltimmar i följd med en snömängd på högst 5,0 mm 2. Vägytans temperatur under halvtimmen X.30 ligger mellan +0,9°C och - 9,9°C HS avgränsas enligt exempel 2 på nästa sida.'), Document(metadata={'id': 'b6c1efff-5072-498c-9034-83a1727c104a', 'page_number': 28}, page_content='28 4.6 Beräkning a v väderutfall Särskilt väder 1 långvarigt snödrev (SV1Drev) I utpekade områden (se bilaga till MF) gäller nedanstående beskrivning vid långvarigt snödrev, SV1Drev. I dessa områden kan snödrev under lång tid jämställas med Särskilt väder 1. 1. Alla timmar med vädersituation D under den aktuella beräkningsperioden avgränsas till vädertillfällen, D -tillfällen, enligt metoden i figur 3 nedan 2. Minst 30 stycken enskilda timmar med vädersituation D eller SV1 har förekommit under en period på högst 48 t immar inom det avgränsade snödrevstillfället 3. Prioritetsordningen vid beräkning av de tre olika typerna av särskilt väder är SV1Drev, SV1 och SV2. D ≤ 11 tim. D ≥ 12 tim. D <--------------------> <------------- > < ---------------------------> första tillfälle med D andra tillfälle med D <---------------------------------------------------- > <---------------------------> Figur 3 . Avgränsning av vädertillfällen med vädersituation s nödrev. Se exempel 12 på SV1Drev på nästa sida, som förutsättning gäller att 2014- 01-27 kl 00 har ingen snö fallit de senaste 14 dygnen.'), Document(metadata={'id': '2621d492-6a92-4548-a2e2-09bb0e2116ff', 'page_number': 32}, page_content='32 Figur 5 Beskrivning av de steg i avsnitt 4.5. Beräkning av väderutfall Snödrev och 4.7 Beräkning av väderutfall Snöfall som tillämpats för att beräkna väderutfallen. Snödrev: Steg 1, 2, 3, 4, 4.1, 5, 5.2 och 5.3. Snöfall: Steg 1, 4 och 5. Timme 1 2 3 4 5 6 7 8 9 10 11 12 13 14 15 16 17 18\\nVädersituation D D D D HS HS HS HR1 D D D D D HS\\nSnömängd (mm)\\nväderutfall\\nSnödrev: Steg 1, 2, 3, 4, 4.1, 5 och 5.1. Snöfall: Steg 1, 2 och 4. Timme 1 2 3 4 5 6 7 8 9 10 11 12 13 14 15 16 17 18\\nVädersituation D D D D S S S HS HS D D D D D D\\nSnömängd (mm)\\nväderutfall\\nSnödrev: Steg 1, 2, 3, 4, 4.1, 5 och 5.1. Snöfall: Steg 1, 2 och 4. Timme 1 2 3 4 5 6 7 8 9 10 11 12 13 14 15 16 17 18\\nVädersituation D D D D S S HR1 D D D D D D\\nSnömängd (mm) 0,0\\nväderutfall\\nSnödrev: Steg 1, 2, 3, 4, 4.1, 5 och 5.1. Snöfall: Steg 1, 2 och 4. Timme 1 2 3 4 5 6 7 8 9 10 11 12 13 14 15 16 17 18\\nVädersituation D D D D S HS D D D D D D\\nSnömängd (mm)\\nväderutfall\\nSnödrev: Steg 1, 2, 3, 4, 4.1, 5 och 5.2.\\nTimme 1 2 3 4 5 6 7 8 9 10 11 12 13 14 15 16 17 18 19 20 21 22\\nVädersituation D D D D HS HS HS HR1 HS HR1 D D D D D D\\nSnömängd (mm)\\nväderutfall> 5,0 ≤ 5,0 0,0 > 5,0\\nsnöfall ≤ 5,0 mm snöfall ≤ 5,0 mm snödrev > 5,0 mm snödrev ≤ 5,0 mm inga väderutfall ber.≤ 5,0 ≤ 5,0\\n≤ 5,0\\nsnödrev ≤ 5,0 mm snöfall > 5,0 mm snöfall ≤ 5,0 mm snödrev > 5,0 mm snödrev ≤ 5,0 mm≤ 5,0 > 5,0 ≤ 5,0 > 5,0\\n≤ 5,0\\nsnödrev ≤ 5,0 mm snöfall > 5,0 mm snöfall ≤ 5,0 mm snödrev > 5,0 mm snödrev ≤ 5,0 mm≤ 5,0 > 5,0 0,0 > 5,0\\n> 5,0 ≤ 5,0\\nsnödrev ≤ 5,0 mm snödrev > 5,0 mm snödrev ≤ 5,0 mm> 5,0 ≤ 5,0\\nsnöfall ≤ 5,0 mm snöfall > 5,0 mm\\n≤ 5,0\\nsnödrev ≤ 5,0 mm snöfall ≤ 5,0 mm snöfall ≤ 5,0 mm snöfall ≤ 5,0 mm snödrev > 5,0 mm snödrev ≤ 5,0 mm≤ 5,0 ≤ 5,0 ≤ 5,0 > 5,0 0,0snöfall ≤ 5,0 mm\\n≤ 5,0snödrev > 5,0 mm'), Document(metadata={}, page_content='För timmar med totalt bortfall av någon variabel är regeln att inga väderutfall beräknas. Ett undantag finns dock. Om endast vägytans temperatur har bortfall beräknas väderutfall även om ingen av de vädersituationer som är kopplade till halka kommer med i ersättningsunderlaget.\\nLäs också: Skador efter snöfall och storm - så gäller din försäkring. I många delar av Sverige påverkas nu både kollektivtrafik och vägarnas framkomlighet av stora snöfall. Om du till exempel kör av vägen i halkan, eller ska ut och resa och blir försenad på grund av ovädret, kan du ha rätt till ersättning från olika\\nMed hjälp av särskilda definitioner omformas rådata till följande nio vädersituationer som används i ersättningsmodellen. 1. Särskilt väder 1, d.v.s. snödrev vid hög vindhastighet (SV1). 2. Särskilt väder 2, d.v.s. kraftigt snöfall (SV2). Sid. 1 (9) 2\\nVTI notat Utgivningsår Trafikverkets beräkningsmodell för ersättning av vinterväghållningsåtgärder, version VädErsKombination, Underlag Väderindex och VädErs 2016\\nUnder tiden som vädertillfällena snödrev och snöfall pågår samt upp till 6 timmar efter att sådant vädertillfälle tagit slut beräknas inga väderutfall med halka. Inte heller under pågående SV1- eller SV2-tillfälle prövas några väderutfall med halka.')]}\n",
      "---GENERATE---\n",
      "---CHECK HALLUCINATIONS---\n",
      "---DECISION: GENERATION IS NOT GROUNDED IN DOCUMENTS, RE-TRY---\n",
      "{'question': 'Hur beräknas ersättningsunderlaget vid upprepade snöfall eller snödrev?', 'generation': AIMessage(content='Ersättningsunderlaget beräknas inte vid upprepade snöfall eller snödrev, även om väderutfall kommer med i ersättningsunderlaget. Detta är en särskild definition som används för att utgöra underlaget för ersättning av vinterväghållningsåtgärder. Vid upprepade snöfall eller snödrev beräknas inga väderutfall med halka.', additional_kwargs={}, response_metadata={'model': 'llama3.2:1b-instruct-fp16', 'created_at': '2024-10-31T14:22:05.314148Z', 'message': {'role': 'assistant', 'content': ''}, 'done_reason': 'stop', 'done': True, 'total_duration': 7259613834, 'load_duration': 38984459, 'prompt_eval_count': 1026, 'prompt_eval_duration': 1370122000, 'eval_count': 109, 'eval_duration': 5847583000}, id='run-6062c811-11d2-4c01-81b4-b8918af31ebc-0', usage_metadata={'input_tokens': 1026, 'output_tokens': 109, 'total_tokens': 1135}), 'web_search': 'No', 'max_retries': 3, 'loop_step': 3, 'documents': [Document(metadata={'id': 'a52c0938-a887-4fcc-ba94-9aa95fd5ce08', 'page_number': 21}, page_content='21 4 Beräkning av ersättningsunderlag Utgångspunkten för beräkningar av väderutfall – grunden för ersättning av vinterväghållningsåtgärder – är de väderbeskrivningar på timnivå som tas fram inom ett driftområde för varje kombination av VViS -station och MESAN -ruta. Beräkningar av väderutfall görs för en kombination i taget och sammanfattas sedan för hela driftområdet. Beräkningen utförs stegvis enligt prioritetsordning. Varje beräkningssteg om fattar tre moment; Första momentet i varje beräkningssteg är att sammanföra vädersituationerna på timnivå till längre vädertillfällen (se avsnitt 4.2). Ett vädertillfälle är exempelvis ett snöfall som pågår nästan varje timme mellan kl. 04 och 18. Ett anna t exempel på vädertillfälle är en rimfrosthalka som uppträder från kl. 10 och 6 timmar framåt. För att vissa vädertillfällen ska resultera i väderutfall krävs det att vädret pågår under ett antal timmar, dvs. har en viss minsta varaktighet. En enstaka timm e med snödrev räcker inte för att det ska klassas som utfall av snödrev. Kravet kan i stället vara att snödrevet ska pågå under minst 4 timmar inom det avgränsade vädertillfället. Andra momentet i beräkningssteget blir därför att testa varaktigheten. Dett a är aktuellt för vädersituationerna Särskilt väder 1 (SV1), Långvariga snödrev (SV1 drev) och snödr ev (D). Det tredje momentet i beräkningssteget är att sönderdela vädertillfällena i väderutfall som är det mått som anges i ersättningsunderlaget. Sönderdel ning gäller alla vädertillfällen utom SV1Drev, SV1 och SV2. 4.1 Beräkningsordning Ersättningsunderlaget beräknas i följande prioritetsordning. 1. Långvariga snödrev (SV1Drev) 2. Särskilt väder 1 (SV1) 3. Särskilt väder 2 (SV2) 4. Snödrev (D) 5. Snöfall (S) 6. Halkor av alla typer (HN, HT, HR2 HS och HR1) Beräkningsordningen innebär att om man under en viss period får ett väderutfall, t.ex. snödrev, så undersöks inte någon av efterföljande typer av väderutfall, snöfall och halkor under denna period. Kommentar 1 Ersättningsunderlaget för långvariga snödrev kan beräknas först när ersättningsunderlagen för Särskilt väder 1 och snödrev har beräknats. Kommentar 2 Ersättningsunderlag för långvariga snödrev beräknas bara i vissa utpekade områden (se bilaga till MF) .'), Document(metadata={'id': '04a9f8c9-950b-467d-8f80-7c23bd50de0c', 'page_number': 11}, page_content='2018- 09-05 11 Kommentar 2 Den detaljerade beräkningsmodellen för att testa om drevbenägen snö förekommer är relativt omfat -\\ntande och redovisas i bilaga 1. Snödrev (D) Snödrev definieras som att vindhastigheten ska uppgå till minst V D m/s samtidigt som drevbenägen snö förekommer. Värdet på V D varierar och redovisas på annan plats i aktuellt förfråg ningsunderlag. Drevbenägen snö definieras på samma sätt som för SV1. Snöfall (S) Vädersituation snöfall innebär att nederbördstyp snö förekommer. Halka på grund av litet snöfall (HS) Denna vädersituation uppstår om följande villkor är uppfyllda. 1. Halvtimmen har en snömängd som är större än 0 mm och är en del av timme X som ingår i någon period om 4 heltimmar i följd med en snömängd på högst 5,0 mm 2. Vägytans temperatur under halvtimmen X.30 ligger mellan +0,9°C och - 9,9°C HS avgränsas enligt exempel 2 på nästa sida.'), Document(metadata={'id': 'b6c1efff-5072-498c-9034-83a1727c104a', 'page_number': 28}, page_content='28 4.6 Beräkning a v väderutfall Särskilt väder 1 långvarigt snödrev (SV1Drev) I utpekade områden (se bilaga till MF) gäller nedanstående beskrivning vid långvarigt snödrev, SV1Drev. I dessa områden kan snödrev under lång tid jämställas med Särskilt väder 1. 1. Alla timmar med vädersituation D under den aktuella beräkningsperioden avgränsas till vädertillfällen, D -tillfällen, enligt metoden i figur 3 nedan 2. Minst 30 stycken enskilda timmar med vädersituation D eller SV1 har förekommit under en period på högst 48 t immar inom det avgränsade snödrevstillfället 3. Prioritetsordningen vid beräkning av de tre olika typerna av särskilt väder är SV1Drev, SV1 och SV2. D ≤ 11 tim. D ≥ 12 tim. D <--------------------> <------------- > < ---------------------------> första tillfälle med D andra tillfälle med D <---------------------------------------------------- > <---------------------------> Figur 3 . Avgränsning av vädertillfällen med vädersituation s nödrev. Se exempel 12 på SV1Drev på nästa sida, som förutsättning gäller att 2014- 01-27 kl 00 har ingen snö fallit de senaste 14 dygnen.'), Document(metadata={'id': '2621d492-6a92-4548-a2e2-09bb0e2116ff', 'page_number': 32}, page_content='32 Figur 5 Beskrivning av de steg i avsnitt 4.5. Beräkning av väderutfall Snödrev och 4.7 Beräkning av väderutfall Snöfall som tillämpats för att beräkna väderutfallen. Snödrev: Steg 1, 2, 3, 4, 4.1, 5, 5.2 och 5.3. Snöfall: Steg 1, 4 och 5. Timme 1 2 3 4 5 6 7 8 9 10 11 12 13 14 15 16 17 18\\nVädersituation D D D D HS HS HS HR1 D D D D D HS\\nSnömängd (mm)\\nväderutfall\\nSnödrev: Steg 1, 2, 3, 4, 4.1, 5 och 5.1. Snöfall: Steg 1, 2 och 4. Timme 1 2 3 4 5 6 7 8 9 10 11 12 13 14 15 16 17 18\\nVädersituation D D D D S S S HS HS D D D D D D\\nSnömängd (mm)\\nväderutfall\\nSnödrev: Steg 1, 2, 3, 4, 4.1, 5 och 5.1. Snöfall: Steg 1, 2 och 4. Timme 1 2 3 4 5 6 7 8 9 10 11 12 13 14 15 16 17 18\\nVädersituation D D D D S S HR1 D D D D D D\\nSnömängd (mm) 0,0\\nväderutfall\\nSnödrev: Steg 1, 2, 3, 4, 4.1, 5 och 5.1. Snöfall: Steg 1, 2 och 4. Timme 1 2 3 4 5 6 7 8 9 10 11 12 13 14 15 16 17 18\\nVädersituation D D D D S HS D D D D D D\\nSnömängd (mm)\\nväderutfall\\nSnödrev: Steg 1, 2, 3, 4, 4.1, 5 och 5.2.\\nTimme 1 2 3 4 5 6 7 8 9 10 11 12 13 14 15 16 17 18 19 20 21 22\\nVädersituation D D D D HS HS HS HR1 HS HR1 D D D D D D\\nSnömängd (mm)\\nväderutfall> 5,0 ≤ 5,0 0,0 > 5,0\\nsnöfall ≤ 5,0 mm snöfall ≤ 5,0 mm snödrev > 5,0 mm snödrev ≤ 5,0 mm inga väderutfall ber.≤ 5,0 ≤ 5,0\\n≤ 5,0\\nsnödrev ≤ 5,0 mm snöfall > 5,0 mm snöfall ≤ 5,0 mm snödrev > 5,0 mm snödrev ≤ 5,0 mm≤ 5,0 > 5,0 ≤ 5,0 > 5,0\\n≤ 5,0\\nsnödrev ≤ 5,0 mm snöfall > 5,0 mm snöfall ≤ 5,0 mm snödrev > 5,0 mm snödrev ≤ 5,0 mm≤ 5,0 > 5,0 0,0 > 5,0\\n> 5,0 ≤ 5,0\\nsnödrev ≤ 5,0 mm snödrev > 5,0 mm snödrev ≤ 5,0 mm> 5,0 ≤ 5,0\\nsnöfall ≤ 5,0 mm snöfall > 5,0 mm\\n≤ 5,0\\nsnödrev ≤ 5,0 mm snöfall ≤ 5,0 mm snöfall ≤ 5,0 mm snöfall ≤ 5,0 mm snödrev > 5,0 mm snödrev ≤ 5,0 mm≤ 5,0 ≤ 5,0 ≤ 5,0 > 5,0 0,0snöfall ≤ 5,0 mm\\n≤ 5,0snödrev > 5,0 mm'), Document(metadata={}, page_content='För timmar med totalt bortfall av någon variabel är regeln att inga väderutfall beräknas. Ett undantag finns dock. Om endast vägytans temperatur har bortfall beräknas väderutfall även om ingen av de vädersituationer som är kopplade till halka kommer med i ersättningsunderlaget.\\nLäs också: Skador efter snöfall och storm - så gäller din försäkring. I många delar av Sverige påverkas nu både kollektivtrafik och vägarnas framkomlighet av stora snöfall. Om du till exempel kör av vägen i halkan, eller ska ut och resa och blir försenad på grund av ovädret, kan du ha rätt till ersättning från olika\\nMed hjälp av särskilda definitioner omformas rådata till följande nio vädersituationer som används i ersättningsmodellen. 1. Särskilt väder 1, d.v.s. snödrev vid hög vindhastighet (SV1). 2. Särskilt väder 2, d.v.s. kraftigt snöfall (SV2). Sid. 1 (9) 2\\nVTI notat Utgivningsår Trafikverkets beräkningsmodell för ersättning av vinterväghållningsåtgärder, version VädErsKombination, Underlag Väderindex och VädErs 2016\\nUnder tiden som vädertillfällena snödrev och snöfall pågår samt upp till 6 timmar efter att sådant vädertillfälle tagit slut beräknas inga väderutfall med halka. Inte heller under pågående SV1- eller SV2-tillfälle prövas några väderutfall med halka.')]}\n",
      "---GENERATE---\n",
      "---CHECK HALLUCINATIONS---\n",
      "---DECISION: MAX RETRIES REACHED---\n",
      "{'question': 'Hur beräknas ersättningsunderlaget vid upprepade snöfall eller snödrev?', 'generation': AIMessage(content='Ersättningsunderlaget beräknas inte vid upprepade snöfall eller snödrev, även om väderutfall kommer med i ersättningsunderlaget. Detta är en särskild definition som används för att utgöra underlaget för ersättning av vinterväghållningsåtgärder. Vid upprepade snöfall eller snödrev beräknas inga väderutfall med halka.', additional_kwargs={}, response_metadata={'model': 'llama3.2:1b-instruct-fp16', 'created_at': '2024-10-31T14:22:16.993315Z', 'message': {'role': 'assistant', 'content': ''}, 'done_reason': 'stop', 'done': True, 'total_duration': 7141362209, 'load_duration': 39504375, 'prompt_eval_count': 1026, 'prompt_eval_duration': 1259652000, 'eval_count': 109, 'eval_duration': 5840026000}, id='run-a8567ebd-e124-4db6-8360-f5244d3af60f-0', usage_metadata={'input_tokens': 1026, 'output_tokens': 109, 'total_tokens': 1135}), 'web_search': 'No', 'max_retries': 3, 'loop_step': 7, 'documents': [Document(metadata={'id': 'a52c0938-a887-4fcc-ba94-9aa95fd5ce08', 'page_number': 21}, page_content='21 4 Beräkning av ersättningsunderlag Utgångspunkten för beräkningar av väderutfall – grunden för ersättning av vinterväghållningsåtgärder – är de väderbeskrivningar på timnivå som tas fram inom ett driftområde för varje kombination av VViS -station och MESAN -ruta. Beräkningar av väderutfall görs för en kombination i taget och sammanfattas sedan för hela driftområdet. Beräkningen utförs stegvis enligt prioritetsordning. Varje beräkningssteg om fattar tre moment; Första momentet i varje beräkningssteg är att sammanföra vädersituationerna på timnivå till längre vädertillfällen (se avsnitt 4.2). Ett vädertillfälle är exempelvis ett snöfall som pågår nästan varje timme mellan kl. 04 och 18. Ett anna t exempel på vädertillfälle är en rimfrosthalka som uppträder från kl. 10 och 6 timmar framåt. För att vissa vädertillfällen ska resultera i väderutfall krävs det att vädret pågår under ett antal timmar, dvs. har en viss minsta varaktighet. En enstaka timm e med snödrev räcker inte för att det ska klassas som utfall av snödrev. Kravet kan i stället vara att snödrevet ska pågå under minst 4 timmar inom det avgränsade vädertillfället. Andra momentet i beräkningssteget blir därför att testa varaktigheten. Dett a är aktuellt för vädersituationerna Särskilt väder 1 (SV1), Långvariga snödrev (SV1 drev) och snödr ev (D). Det tredje momentet i beräkningssteget är att sönderdela vädertillfällena i väderutfall som är det mått som anges i ersättningsunderlaget. Sönderdel ning gäller alla vädertillfällen utom SV1Drev, SV1 och SV2. 4.1 Beräkningsordning Ersättningsunderlaget beräknas i följande prioritetsordning. 1. Långvariga snödrev (SV1Drev) 2. Särskilt väder 1 (SV1) 3. Särskilt väder 2 (SV2) 4. Snödrev (D) 5. Snöfall (S) 6. Halkor av alla typer (HN, HT, HR2 HS och HR1) Beräkningsordningen innebär att om man under en viss period får ett väderutfall, t.ex. snödrev, så undersöks inte någon av efterföljande typer av väderutfall, snöfall och halkor under denna period. Kommentar 1 Ersättningsunderlaget för långvariga snödrev kan beräknas först när ersättningsunderlagen för Särskilt väder 1 och snödrev har beräknats. Kommentar 2 Ersättningsunderlag för långvariga snödrev beräknas bara i vissa utpekade områden (se bilaga till MF) .'), Document(metadata={'id': '04a9f8c9-950b-467d-8f80-7c23bd50de0c', 'page_number': 11}, page_content='2018- 09-05 11 Kommentar 2 Den detaljerade beräkningsmodellen för att testa om drevbenägen snö förekommer är relativt omfat -\\ntande och redovisas i bilaga 1. Snödrev (D) Snödrev definieras som att vindhastigheten ska uppgå till minst V D m/s samtidigt som drevbenägen snö förekommer. Värdet på V D varierar och redovisas på annan plats i aktuellt förfråg ningsunderlag. Drevbenägen snö definieras på samma sätt som för SV1. Snöfall (S) Vädersituation snöfall innebär att nederbördstyp snö förekommer. Halka på grund av litet snöfall (HS) Denna vädersituation uppstår om följande villkor är uppfyllda. 1. Halvtimmen har en snömängd som är större än 0 mm och är en del av timme X som ingår i någon period om 4 heltimmar i följd med en snömängd på högst 5,0 mm 2. Vägytans temperatur under halvtimmen X.30 ligger mellan +0,9°C och - 9,9°C HS avgränsas enligt exempel 2 på nästa sida.'), Document(metadata={'id': 'b6c1efff-5072-498c-9034-83a1727c104a', 'page_number': 28}, page_content='28 4.6 Beräkning a v väderutfall Särskilt väder 1 långvarigt snödrev (SV1Drev) I utpekade områden (se bilaga till MF) gäller nedanstående beskrivning vid långvarigt snödrev, SV1Drev. I dessa områden kan snödrev under lång tid jämställas med Särskilt väder 1. 1. Alla timmar med vädersituation D under den aktuella beräkningsperioden avgränsas till vädertillfällen, D -tillfällen, enligt metoden i figur 3 nedan 2. Minst 30 stycken enskilda timmar med vädersituation D eller SV1 har förekommit under en period på högst 48 t immar inom det avgränsade snödrevstillfället 3. Prioritetsordningen vid beräkning av de tre olika typerna av särskilt väder är SV1Drev, SV1 och SV2. D ≤ 11 tim. D ≥ 12 tim. D <--------------------> <------------- > < ---------------------------> första tillfälle med D andra tillfälle med D <---------------------------------------------------- > <---------------------------> Figur 3 . Avgränsning av vädertillfällen med vädersituation s nödrev. Se exempel 12 på SV1Drev på nästa sida, som förutsättning gäller att 2014- 01-27 kl 00 har ingen snö fallit de senaste 14 dygnen.'), Document(metadata={'id': '2621d492-6a92-4548-a2e2-09bb0e2116ff', 'page_number': 32}, page_content='32 Figur 5 Beskrivning av de steg i avsnitt 4.5. Beräkning av väderutfall Snödrev och 4.7 Beräkning av väderutfall Snöfall som tillämpats för att beräkna väderutfallen. Snödrev: Steg 1, 2, 3, 4, 4.1, 5, 5.2 och 5.3. Snöfall: Steg 1, 4 och 5. Timme 1 2 3 4 5 6 7 8 9 10 11 12 13 14 15 16 17 18\\nVädersituation D D D D HS HS HS HR1 D D D D D HS\\nSnömängd (mm)\\nväderutfall\\nSnödrev: Steg 1, 2, 3, 4, 4.1, 5 och 5.1. Snöfall: Steg 1, 2 och 4. Timme 1 2 3 4 5 6 7 8 9 10 11 12 13 14 15 16 17 18\\nVädersituation D D D D S S S HS HS D D D D D D\\nSnömängd (mm)\\nväderutfall\\nSnödrev: Steg 1, 2, 3, 4, 4.1, 5 och 5.1. Snöfall: Steg 1, 2 och 4. Timme 1 2 3 4 5 6 7 8 9 10 11 12 13 14 15 16 17 18\\nVädersituation D D D D S S HR1 D D D D D D\\nSnömängd (mm) 0,0\\nväderutfall\\nSnödrev: Steg 1, 2, 3, 4, 4.1, 5 och 5.1. Snöfall: Steg 1, 2 och 4. Timme 1 2 3 4 5 6 7 8 9 10 11 12 13 14 15 16 17 18\\nVädersituation D D D D S HS D D D D D D\\nSnömängd (mm)\\nväderutfall\\nSnödrev: Steg 1, 2, 3, 4, 4.1, 5 och 5.2.\\nTimme 1 2 3 4 5 6 7 8 9 10 11 12 13 14 15 16 17 18 19 20 21 22\\nVädersituation D D D D HS HS HS HR1 HS HR1 D D D D D D\\nSnömängd (mm)\\nväderutfall> 5,0 ≤ 5,0 0,0 > 5,0\\nsnöfall ≤ 5,0 mm snöfall ≤ 5,0 mm snödrev > 5,0 mm snödrev ≤ 5,0 mm inga väderutfall ber.≤ 5,0 ≤ 5,0\\n≤ 5,0\\nsnödrev ≤ 5,0 mm snöfall > 5,0 mm snöfall ≤ 5,0 mm snödrev > 5,0 mm snödrev ≤ 5,0 mm≤ 5,0 > 5,0 ≤ 5,0 > 5,0\\n≤ 5,0\\nsnödrev ≤ 5,0 mm snöfall > 5,0 mm snöfall ≤ 5,0 mm snödrev > 5,0 mm snödrev ≤ 5,0 mm≤ 5,0 > 5,0 0,0 > 5,0\\n> 5,0 ≤ 5,0\\nsnödrev ≤ 5,0 mm snödrev > 5,0 mm snödrev ≤ 5,0 mm> 5,0 ≤ 5,0\\nsnöfall ≤ 5,0 mm snöfall > 5,0 mm\\n≤ 5,0\\nsnödrev ≤ 5,0 mm snöfall ≤ 5,0 mm snöfall ≤ 5,0 mm snöfall ≤ 5,0 mm snödrev > 5,0 mm snödrev ≤ 5,0 mm≤ 5,0 ≤ 5,0 ≤ 5,0 > 5,0 0,0snöfall ≤ 5,0 mm\\n≤ 5,0snödrev > 5,0 mm'), Document(metadata={}, page_content='För timmar med totalt bortfall av någon variabel är regeln att inga väderutfall beräknas. Ett undantag finns dock. Om endast vägytans temperatur har bortfall beräknas väderutfall även om ingen av de vädersituationer som är kopplade till halka kommer med i ersättningsunderlaget.\\nLäs också: Skador efter snöfall och storm - så gäller din försäkring. I många delar av Sverige påverkas nu både kollektivtrafik och vägarnas framkomlighet av stora snöfall. Om du till exempel kör av vägen i halkan, eller ska ut och resa och blir försenad på grund av ovädret, kan du ha rätt till ersättning från olika\\nMed hjälp av särskilda definitioner omformas rådata till följande nio vädersituationer som används i ersättningsmodellen. 1. Särskilt väder 1, d.v.s. snödrev vid hög vindhastighet (SV1). 2. Särskilt väder 2, d.v.s. kraftigt snöfall (SV2). Sid. 1 (9) 2\\nVTI notat Utgivningsår Trafikverkets beräkningsmodell för ersättning av vinterväghållningsåtgärder, version VädErsKombination, Underlag Väderindex och VädErs 2016\\nUnder tiden som vädertillfällena snödrev och snöfall pågår samt upp till 6 timmar efter att sådant vädertillfälle tagit slut beräknas inga väderutfall med halka. Inte heller under pågående SV1- eller SV2-tillfälle prövas några väderutfall med halka.')]}\n"
     ]
    }
   ],
   "source": [
    "inputs = {\"question\": \"Hur beräknas ersättningsunderlaget vid upprepade snöfall eller snödrev?\", \"max_retries\": 3}\n",
    "for event in graph.stream(inputs, stream_mode=\"values\"):\n",
    "    print(event)"
   ]
  }
 ],
 "metadata": {
  "kernelspec": {
   "display_name": ".venv",
   "language": "python",
   "name": "python3"
  },
  "language_info": {
   "codemirror_mode": {
    "name": "ipython",
    "version": 3
   },
   "file_extension": ".py",
   "mimetype": "text/x-python",
   "name": "python",
   "nbconvert_exporter": "python",
   "pygments_lexer": "ipython3",
   "version": "3.11.7"
  }
 },
 "nbformat": 4,
 "nbformat_minor": 2
}
